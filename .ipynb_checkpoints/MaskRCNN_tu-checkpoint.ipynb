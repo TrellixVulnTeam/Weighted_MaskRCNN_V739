{
 "cells": [
  {
   "cell_type": "code",
   "execution_count": 1,
   "metadata": {
    "collapsed": true
   },
   "outputs": [],
   "source": [
    "import os\n",
    "import numpy as np\n",
    "import torch\n",
    "from PIL import Image\n",
    "from torch.utils.data import Dataset\n",
    "from skimage import transform\n",
    "import cv2\n",
    "from torchvision import transforms, utils"
   ]
  },
  {
   "cell_type": "code",
   "execution_count": 2,
   "metadata": {
    "collapsed": true
   },
   "outputs": [],
   "source": [
    "# EXTENSIONS_SCAN = ['.bin']\n",
    "EXTENSIONS_LABEL = ['.npy']\n",
    "EXTENSIONS_IMAGE = ['.png']\n",
    "\n",
    "def is_label(filename):\n",
    "    return any(filename.endswith(ext) for ext in EXTENSIONS_LABEL)\n",
    "\n",
    "\n",
    "def is_image(filename):\n",
    "    return any(filename.endswith(ext) for ext in EXTENSIONS_IMAGE)\n",
    "\n",
    "\n",
    "\n",
    "class PennFudanDataset(object):\n",
    "    def __init__(self, transforms):\n",
    "#         self.root = root\n",
    "        self.transforms = transforms\n",
    "        # 모든 이미지 파일들을 읽고, 정렬하여\n",
    "        # 이미지와 분할 마스크 정렬을 확인합니다\n",
    "        \n",
    "        # placeholder for filenames\n",
    "        self.imgs = []\n",
    "        self.masks = []\n",
    "\n",
    "        # get paths for each\n",
    "        # scan_path = os.path.join(\"/mnt/han/lidar-bonnetal/train/tasks/semantic/cdataset/dataset/sequences\", seq,\n",
    "        #                          \"velodyne\")\n",
    "        label_path = os.path.join(\"/home/kkm/Desktop/PennFudanPed/elipse_test\")\n",
    "        image_path = os.path.join(\"/home/kkm/Desktop/PennFudanPed/elipse_test\")\n",
    "\n",
    "\n",
    "\n",
    "        # get files\n",
    "        # scan_files = [os.path.join(dp, f) for dp, dn, fn in os.walk(\n",
    "        #     os.path.expanduser(scan_path)) for f in fn if is_scan(f)]\n",
    "        label_files = [os.path.join(dp, f) for dp, dn, fn in os.walk(\n",
    "          os.path.expanduser(label_path)) for f in fn if is_label(f)]\n",
    "        image_files = [os.path.join(dp, f) for dp, dn, fn in os.walk(\n",
    "          os.path.expanduser(image_path)) for f in fn if is_image(f)]\n",
    "\n",
    "        # scan_files.sort()\n",
    "        label_files.sort()\n",
    "        image_files.sort()\n",
    "        self.imgs.extend(image_files)\n",
    "        self.masks.extend(label_files)\n",
    "        \n",
    "\n",
    "\n",
    "    def __getitem__(self, idx):\n",
    "        # 이미지와 마스크를 읽어옵니다\n",
    "        img_path =  self.imgs[idx]\n",
    "        mask_path = self.masks[idx]\n",
    "        img = Image.open(img_path).convert(\"RGB\")\n",
    "        # 분할 마스크는 RGB로 변환하지 않음을 유의하세요\n",
    "        # 왜냐하면 각 색상은 다른 인스턴스에 해당하며, 0은 배경에 해당합니다\n",
    "        mask = np.load(mask_path, allow_pickle=True)\n",
    "        # numpy 배열을 PIL 이미지로 변환합니다\n",
    "#         mask = np.array(mask)\n",
    "        # 인스턴스들은 다른 색들로 인코딩 되어 있습니다.\n",
    "        obj_ids = np.unique(mask)\n",
    "#         # 첫번째 id 는 배경이라 제거합니다\n",
    "        obj_ids = obj_ids[1:]\n",
    "        # 컬러 인코딩된 마스크를 바이너리 마스크 세트로 나눕니다\n",
    "        masks = mask == obj_ids[:, None, None]\n",
    "\n",
    "        # 각 마스크의 바운딩 박스 좌표를 얻습니다\n",
    "        num_objs = len(obj_ids)\n",
    "        boxes = []\n",
    "        for i in range(num_objs):\n",
    "            pos = np.where(masks[i])\n",
    "            xmin = np.min(pos[1])\n",
    "            xmax = np.max(pos[1])\n",
    "            ymin = np.min(pos[0])\n",
    "            ymax = np.max(pos[0])\n",
    "            boxes.append([xmin, ymin, xmax, ymax])\n",
    "\n",
    "        # 모든 것을 torch.Tensor 타입으로 변환합니다\n",
    "        boxes = torch.as_tensor(boxes, dtype=torch.float32)\n",
    "        # 객체 종류는 한 종류만 존재합니다(역자주: 예제에서는 사람만이 대상입니다)\n",
    "        labels = torch.ones((num_objs,), dtype=torch.int64)\n",
    "        masks = torch.as_tensor(masks, dtype=torch.uint8)\n",
    "\n",
    "        image_id = torch.tensor([idx])\n",
    "        area = (boxes[:, 3] - boxes[:, 1]) * (boxes[:, 2] - boxes[:, 0])\n",
    "        # 모든 인스턴스는 군중(crowd) 상태가 아님을 가정합니다\n",
    "        iscrowd = torch.zeros((num_objs,), dtype=torch.int64)\n",
    "\n",
    "        target = {}\n",
    "        target[\"boxes\"] = boxes\n",
    "        target[\"labels\"] = labels\n",
    "        target[\"masks\"] = masks\n",
    "        target[\"image_id\"] = image_id\n",
    "        target[\"area\"] = area\n",
    "        target[\"iscrowd\"] = iscrowd\n",
    "\n",
    "        if self.transforms is not None:\n",
    "            img, target = self.transforms(img, target)\n",
    "\n",
    "        return img, target\n",
    "\n",
    "    def __len__(self):\n",
    "        return len(self.imgs)"
   ]
  },
  {
   "cell_type": "markdown",
   "metadata": {},
   "source": [
    "from torchvision.models.detection import roi_heads\n",
    "roi_heads??"
   ]
  },
  {
   "cell_type": "code",
   "execution_count": null,
   "metadata": {
    "collapsed": true
   },
   "outputs": [],
   "source": [
    "import torch\n",
    "\n",
    "import torch.nn.functional as F\n",
    "from torch import nn\n",
    "\n",
    "from torchvision.ops import boxes as box_ops\n",
    "from torchvision.ops import misc as misc_nn_ops\n",
    "from torchvision.ops import roi_align\n",
    "from scipy import ndimage\n",
    "from torchvision.models.detection import roi_heads\n",
    "\n",
    "def getweightmap(mask):\n",
    "#     assert mask.size > 0\n",
    "    w_c = np.empty(mask.shape)\n",
    "    frac0 = torch.mean((mask == 0).float())      # background\n",
    "    frac1 = torch.mean((mask == 1).float())        # instance\n",
    "    #     assert frac0 > 0\n",
    "    #     assert frac1 > 0\n",
    "    # Calculate weight map\n",
    "    w_c[mask == 0] = 0.5 / (frac0)\n",
    "    w_c[mask == 1] = 0.5 / (frac1)\n",
    "    return w_c\n",
    "\n",
    "def getunetweightmap(masks, w0=10, sigma=500):\n",
    "    weight_f = []\n",
    "    for i in np.arange(len(masks)):\n",
    "        masks = masks[i]\n",
    "        merged_mask = torch.sum(masks,dim=0)\n",
    "        weight = np.zeros(merged_mask.shape)\n",
    "        # calculate weight for important pixels\n",
    "        distances = np.array([ndimage.distance_transform_edt(m == 0) for m in masks])\n",
    "        shortest_dist = np.sort(distances, axis=0)     \n",
    "        # distance to the border of the nearest cell   \n",
    "        d1 = shortest_dist[0]\n",
    "        # distance to the border of the second nearest cell\n",
    "        d2 = shortest_dist[1] if len(shortest_dist) > 1 else np.zeros(d1.shape)\n",
    "        w_b = np.exp(-((d1 + d2) ** 2 / (2 * (sigma ** 2))))\n",
    "        w_c = getweightmap(merged_mask)\n",
    "        w = w_c +  (w0 * w_b)\n",
    "        # min = np.min(w[np.where(w>0)])\n",
    "        # weight = (merged_mask == 1) * (w-min)\n",
    "        weight = (masks == 1).float().mul(torch.from_numpy(w).float()).int()\n",
    "#         weight = w\n",
    "#         weight2=weight.unsqueeze(0)\n",
    "#         weight3=torch.cat((weight2,weight2),dim=0)\n",
    "#         weight4=torch.cat((weight3,weight2),dim=0)\n",
    "#         weight5=torch.cat((weight4,weight2),dim=0)\n",
    "        weight_f.append(weight)\n",
    "\n",
    "    return weight_f\n",
    "    \n",
    "def maskrcnn_loss(mask_logits, proposals, gt_masks, gt_labels, mask_matched_idxs):\n",
    "    \"\"\"\n",
    "    Arguments:\n",
    "        proposals (list[BoxList])\n",
    "        mask_logits (Tensor)\n",
    "        targets (list[BoxList])\n",
    "\n",
    "    Return:\n",
    "        mask_loss (Tensor): scalar tensor containing the loss\n",
    "    \"\"\"\n",
    "#     gt_masks2 = gt_masks.cpu()\n",
    "#     W_mask_tmp = (np.array(gt_masks) == 1 ).astype(np.float)\n",
    "#     W_merged_mask = np.max(gt_masks, axis=2)       \n",
    "    W_masks = getunetweightmap(gt_masks, w0=10, sigma=100)\n",
    "\n",
    "    discretization_size = mask_logits.shape[-1]\n",
    "    labels = [l[idxs] for l, idxs in zip(gt_labels, mask_matched_idxs)]\n",
    "    \n",
    "    mask_targets = [\n",
    "        project_masks_on_boxes(m, p, i, discretization_size)\n",
    "        for m, p, i in zip(gt_masks, proposals, mask_matched_idxs)\n",
    "    ]\n",
    "    \n",
    "    W_targets = [\n",
    "        project_masks_on_boxes(m, p, i, discretization_size)\n",
    "        for m, p, i in zip(W_masks, proposals, mask_matched_idxs)\n",
    "    ]\n",
    "\n",
    "    labels = torch.cat(labels, dim=0)\n",
    "    \n",
    "    mask_targets = torch.cat(mask_targets, dim=0)\n",
    "    \n",
    "    W_targets = torch.cat(W_targets, dim=0)\n",
    "    \n",
    "\n",
    "    # torch.mean (in binary_cross_entropy_with_logits) doesn't\n",
    "    # accept empty tensors, so handle it separately\n",
    "    if mask_targets.numel() == 0:\n",
    "        return mask_logits.sum() * 0\n",
    "\n",
    "    mask_loss = F.binary_cross_entropy_with_logits(\n",
    "        mask_logits[torch.arange(labels.shape[0], device=labels.device), labels], mask_targets\n",
    "#         ,pos_weight=W_targets\n",
    "    )\n",
    "    return mask_loss"
   ]
  },
  {
   "cell_type": "markdown",
   "metadata": {},
   "source": [
    "def project_masks_on_boxes(gt_masks, boxes, matched_idxs, M):\n",
    "    \"\"\"\n",
    "    Given segmentation masks and the bounding boxes corresponding\n",
    "    to the location of the masks in the image, this function\n",
    "    crops and resizes the masks in the position defined by the\n",
    "    boxes. This prepares the masks for them to be fed to the\n",
    "    loss computation as the targets.\n",
    "    \"\"\"\n",
    "    matched_idxs = matched_idxs.to(boxes)\n",
    "    rois = torch.cat([matched_idxs[:, None], boxes], dim=1)\n",
    "    gt_masks = gt_masks[:, None].to(rois)\n",
    "    return roi_align(gt_masks, rois, (M, M), 1)[:, 0]"
   ]
  },
  {
   "cell_type": "markdown",
   "metadata": {},
   "source": [
    "from torchvision.models.detection import roi_heads\n",
    "roi_heads.maskrcnn_loss = maskrcnn_loss\n",
    "roi_heads.project_masks_on_boxes = project_masks_on_boxes\n",
    "\n",
    "roi_heads??"
   ]
  },
  {
   "cell_type": "markdown",
   "metadata": {},
   "source": [
    "roi_heads"
   ]
  },
  {
   "cell_type": "code",
   "execution_count": 3,
   "metadata": {
    "collapsed": true
   },
   "outputs": [],
   "source": [
    "import torchvision\n",
    "from torchvision.models.detection.faster_rcnn import FastRCNNPredictor\n",
    "from torchvision.models.detection.mask_rcnn import MaskRCNNPredictor\n",
    "\n",
    "\n",
    "def get_model_instance_segmentation(num_classes):\n",
    "    # COCO 에서 미리 학습된 인스턴스 분할 모델을 읽어옵니다\n",
    "    model = torchvision.models.detection.maskrcnn_resnet50_fpn(pretrained=True)\n",
    "\n",
    "    # 분류를 위한 입력 특징 차원을 얻습니다\n",
    "    in_features = model.roi_heads.box_predictor.cls_score.in_features\n",
    "    # 미리 학습된 헤더를 새로운 것으로 바꿉니다\n",
    "    model.roi_heads.box_predictor = FastRCNNPredictor(in_features, num_classes)\n",
    "\n",
    "    # 마스크 분류기를 위한 입력 특징들의 차원을 얻습니다\n",
    "    in_features_mask = model.roi_heads.mask_predictor.conv5_mask.in_channels\n",
    "    hidden_layer = 256\n",
    "    # 마스크 예측기를 새로운 것으로 바꿉니다\n",
    "    model.roi_heads.mask_predictor = MaskRCNNPredictor(in_features_mask,\n",
    "                                                       hidden_layer,\n",
    "                                                       num_classes)\n",
    "#     model.roi_heads.maskrcnn_loss = maskrcnn_loss_W\n",
    "\n",
    "    return model"
   ]
  },
  {
   "cell_type": "code",
   "execution_count": 4,
   "metadata": {
    "collapsed": true
   },
   "outputs": [],
   "source": [
    "import transforms as T\n",
    "\n",
    "def get_transform(train):\n",
    "    transforms = []\n",
    "    transforms.append(T.ToTensor())\n",
    "    if train:\n",
    "        # (역자주: 학습시 50% 확률로 학습 영상을 좌우 반전 변환합니다)\n",
    "        transforms.append(T.RandomHorizontalFlip(0.5))\n",
    "    return T.Compose(transforms)"
   ]
  },
  {
   "cell_type": "code",
   "execution_count": 5,
   "metadata": {
    "scrolled": true
   },
   "outputs": [
    {
     "ename": "RuntimeError",
     "evalue": "Dimension out of range (expected to be in range of [-3, 2], but got 3) (maybe_wrap_dim at /opt/conda/conda-bld/pytorch_1565272279342/work/c10/core/WrapDimMinimal.h:20)\nframe #0: c10::Error::Error(c10::SourceLocation, std::string const&) + 0x47 (0x7fa5e9732e37 in /home/kkm/anaconda3/envs/maskr/lib/python3.6/site-packages/torch/lib/libc10.so)\nframe #1: <unknown function> + 0x17dbd5c (0x7fa5ed086d5c in /home/kkm/anaconda3/envs/maskr/lib/python3.6/site-packages/torch/lib/libtorch.so)\nframe #2: at::native::size(at::Tensor const&, long) + 0x20 (0x7fa5ed087010 in /home/kkm/anaconda3/envs/maskr/lib/python3.6/site-packages/torch/lib/libtorch.so)\nframe #3: ROIAlign_forward_cpu(at::Tensor const&, at::Tensor const&, float, int, int, int) + 0x460 (0x7fa5a1addd8c in /home/kkm/anaconda3/envs/maskr/lib/python3.6/site-packages/torchvision/_C.cpython-36m-x86_64-linux-gnu.so)\nframe #4: ROIAlign_forward(at::Tensor const&, at::Tensor const&, float, int, int, int) + 0x92 (0x7fa5a1ab56a6 in /home/kkm/anaconda3/envs/maskr/lib/python3.6/site-packages/torchvision/_C.cpython-36m-x86_64-linux-gnu.so)\nframe #5: <unknown function> + 0x5e31e (0x7fa5a1ad731e in /home/kkm/anaconda3/envs/maskr/lib/python3.6/site-packages/torchvision/_C.cpython-36m-x86_64-linux-gnu.so)\nframe #6: <unknown function> + 0x5b2d8 (0x7fa5a1ad42d8 in /home/kkm/anaconda3/envs/maskr/lib/python3.6/site-packages/torchvision/_C.cpython-36m-x86_64-linux-gnu.so)\nframe #7: <unknown function> + 0x56deb (0x7fa5a1acfdeb in /home/kkm/anaconda3/envs/maskr/lib/python3.6/site-packages/torchvision/_C.cpython-36m-x86_64-linux-gnu.so)\nframe #8: <unknown function> + 0x57090 (0x7fa5a1ad0090 in /home/kkm/anaconda3/envs/maskr/lib/python3.6/site-packages/torchvision/_C.cpython-36m-x86_64-linux-gnu.so)\nframe #9: <unknown function> + 0x48047 (0x7fa5a1ac1047 in /home/kkm/anaconda3/envs/maskr/lib/python3.6/site-packages/torchvision/_C.cpython-36m-x86_64-linux-gnu.so)\nframe #10: _PyCFunction_FastCallDict + 0x154 (0x5622e79b9a14 in /home/kkm/anaconda3/envs/maskr/bin/python)\nframe #11: <unknown function> + 0x19aa5c (0x5622e7a41a5c in /home/kkm/anaconda3/envs/maskr/bin/python)\nframe #12: _PyEval_EvalFrameDefault + 0x30a (0x5622e7a6425a in /home/kkm/anaconda3/envs/maskr/bin/python)\nframe #13: PyEval_EvalCodeEx + 0x329 (0x5622e7a3c969 in /home/kkm/anaconda3/envs/maskr/bin/python)\nframe #14: <unknown function> + 0x196784 (0x5622e7a3d784 in /home/kkm/anaconda3/envs/maskr/bin/python)\nframe #15: PyObject_Call + 0x3e (0x5622e79b981e in /home/kkm/anaconda3/envs/maskr/bin/python)\nframe #16: THPFunction_apply(_object*, _object*) + 0x98f (0x7fa61adb44bf in /home/kkm/anaconda3/envs/maskr/lib/python3.6/site-packages/torch/lib/libtorch_python.so)\nframe #17: _PyCFunction_FastCallDict + 0x91 (0x5622e79b9951 in /home/kkm/anaconda3/envs/maskr/bin/python)\nframe #18: <unknown function> + 0x19aa5c (0x5622e7a41a5c in /home/kkm/anaconda3/envs/maskr/bin/python)\nframe #19: _PyEval_EvalFrameDefault + 0x30a (0x5622e7a6425a in /home/kkm/anaconda3/envs/maskr/bin/python)\nframe #20: <unknown function> + 0x193fd4 (0x5622e7a3afd4 in /home/kkm/anaconda3/envs/maskr/bin/python)\nframe #21: <unknown function> + 0x194e51 (0x5622e7a3be51 in /home/kkm/anaconda3/envs/maskr/bin/python)\nframe #22: <unknown function> + 0x19ab35 (0x5622e7a41b35 in /home/kkm/anaconda3/envs/maskr/bin/python)\nframe #23: _PyEval_EvalFrameDefault + 0x30a (0x5622e7a6425a in /home/kkm/anaconda3/envs/maskr/bin/python)\nframe #24: <unknown function> + 0x194c1b (0x5622e7a3bc1b in /home/kkm/anaconda3/envs/maskr/bin/python)\nframe #25: <unknown function> + 0x19ab35 (0x5622e7a41b35 in /home/kkm/anaconda3/envs/maskr/bin/python)\nframe #26: _PyEval_EvalFrameDefault + 0x30a (0x5622e7a6425a in /home/kkm/anaconda3/envs/maskr/bin/python)\nframe #27: <unknown function> + 0x194166 (0x5622e7a3b166 in /home/kkm/anaconda3/envs/maskr/bin/python)\nframe #28: <unknown function> + 0x194e51 (0x5622e7a3be51 in /home/kkm/anaconda3/envs/maskr/bin/python)\nframe #29: <unknown function> + 0x19ab35 (0x5622e7a41b35 in /home/kkm/anaconda3/envs/maskr/bin/python)\nframe #30: _PyEval_EvalFrameDefault + 0x30a (0x5622e7a6425a in /home/kkm/anaconda3/envs/maskr/bin/python)\nframe #31: <unknown function> + 0x1942ce (0x5622e7a3b2ce in /home/kkm/anaconda3/envs/maskr/bin/python)\nframe #32: <unknown function> + 0x194e51 (0x5622e7a3be51 in /home/kkm/anaconda3/envs/maskr/bin/python)\nframe #33: <unknown function> + 0x19ab35 (0x5622e7a41b35 in /home/kkm/anaconda3/envs/maskr/bin/python)\nframe #34: _PyEval_EvalFrameDefault + 0x30a (0x5622e7a6425a in /home/kkm/anaconda3/envs/maskr/bin/python)\nframe #35: <unknown function> + 0x193fd4 (0x5622e7a3afd4 in /home/kkm/anaconda3/envs/maskr/bin/python)\nframe #36: _PyFunction_FastCallDict + 0x3da (0x5622e7a3c54a in /home/kkm/anaconda3/envs/maskr/bin/python)\nframe #37: _PyObject_FastCallDict + 0x26f (0x5622e79b9ddf in /home/kkm/anaconda3/envs/maskr/bin/python)\nframe #38: _PyObject_Call_Prepend + 0x63 (0x5622e79be873 in /home/kkm/anaconda3/envs/maskr/bin/python)\nframe #39: PyObject_Call + 0x3e (0x5622e79b981e in /home/kkm/anaconda3/envs/maskr/bin/python)\nframe #40: _PyEval_EvalFrameDefault + 0x196b (0x5622e7a658bb in /home/kkm/anaconda3/envs/maskr/bin/python)\nframe #41: <unknown function> + 0x193fd4 (0x5622e7a3afd4 in /home/kkm/anaconda3/envs/maskr/bin/python)\nframe #42: _PyFunction_FastCallDict + 0x1bc (0x5622e7a3c32c in /home/kkm/anaconda3/envs/maskr/bin/python)\nframe #43: _PyObject_FastCallDict + 0x26f (0x5622e79b9ddf in /home/kkm/anaconda3/envs/maskr/bin/python)\nframe #44: _PyObject_Call_Prepend + 0x63 (0x5622e79be873 in /home/kkm/anaconda3/envs/maskr/bin/python)\nframe #45: PyObject_Call + 0x3e (0x5622e79b981e in /home/kkm/anaconda3/envs/maskr/bin/python)\nframe #46: <unknown function> + 0x16c211 (0x5622e7a13211 in /home/kkm/anaconda3/envs/maskr/bin/python)\nframe #47: _PyObject_FastCallDict + 0x8b (0x5622e79b9bfb in /home/kkm/anaconda3/envs/maskr/bin/python)\nframe #48: <unknown function> + 0x19abae (0x5622e7a41bae in /home/kkm/anaconda3/envs/maskr/bin/python)\nframe #49: _PyEval_EvalFrameDefault + 0x30a (0x5622e7a6425a in /home/kkm/anaconda3/envs/maskr/bin/python)\nframe #50: <unknown function> + 0x193fd4 (0x5622e7a3afd4 in /home/kkm/anaconda3/envs/maskr/bin/python)\nframe #51: _PyFunction_FastCallDict + 0x3da (0x5622e7a3c54a in /home/kkm/anaconda3/envs/maskr/bin/python)\nframe #52: _PyObject_FastCallDict + 0x26f (0x5622e79b9ddf in /home/kkm/anaconda3/envs/maskr/bin/python)\nframe #53: _PyObject_Call_Prepend + 0x63 (0x5622e79be873 in /home/kkm/anaconda3/envs/maskr/bin/python)\nframe #54: PyObject_Call + 0x3e (0x5622e79b981e in /home/kkm/anaconda3/envs/maskr/bin/python)\nframe #55: _PyEval_EvalFrameDefault + 0x196b (0x5622e7a658bb in /home/kkm/anaconda3/envs/maskr/bin/python)\nframe #56: <unknown function> + 0x193fd4 (0x5622e7a3afd4 in /home/kkm/anaconda3/envs/maskr/bin/python)\nframe #57: _PyFunction_FastCallDict + 0x1bc (0x5622e7a3c32c in /home/kkm/anaconda3/envs/maskr/bin/python)\nframe #58: _PyObject_FastCallDict + 0x26f (0x5622e79b9ddf in /home/kkm/anaconda3/envs/maskr/bin/python)\nframe #59: _PyObject_Call_Prepend + 0x63 (0x5622e79be873 in /home/kkm/anaconda3/envs/maskr/bin/python)\nframe #60: PyObject_Call + 0x3e (0x5622e79b981e in /home/kkm/anaconda3/envs/maskr/bin/python)\nframe #61: <unknown function> + 0x16c211 (0x5622e7a13211 in /home/kkm/anaconda3/envs/maskr/bin/python)\nframe #62: _PyObject_FastCallDict + 0x8b (0x5622e79b9bfb in /home/kkm/anaconda3/envs/maskr/bin/python)\nframe #63: <unknown function> + 0x19abae (0x5622e7a41bae in /home/kkm/anaconda3/envs/maskr/bin/python)\n",
     "output_type": "error",
     "traceback": [
      "\u001b[0;31m---------------------------------------------------------------------------\u001b[0m",
      "\u001b[0;31mRuntimeError\u001b[0m                              Traceback (most recent call last)",
      "\u001b[0;32m<ipython-input-5-e9be1ea49e56>\u001b[0m in \u001b[0;36m<module>\u001b[0;34m\u001b[0m\n\u001b[1;32m     51\u001b[0m \u001b[0;32mfor\u001b[0m \u001b[0mepoch\u001b[0m \u001b[0;32min\u001b[0m \u001b[0mrange\u001b[0m\u001b[0;34m(\u001b[0m\u001b[0mnum_epochs\u001b[0m\u001b[0;34m)\u001b[0m\u001b[0;34m:\u001b[0m\u001b[0;34m\u001b[0m\u001b[0;34m\u001b[0m\u001b[0m\n\u001b[1;32m     52\u001b[0m     \u001b[0;31m# 1 에포크동안 학습하고, 10회 마다 출력합니다\u001b[0m\u001b[0;34m\u001b[0m\u001b[0;34m\u001b[0m\u001b[0;34m\u001b[0m\u001b[0m\n\u001b[0;32m---> 53\u001b[0;31m     \u001b[0mtrain_one_epoch\u001b[0m\u001b[0;34m(\u001b[0m\u001b[0mmodel\u001b[0m\u001b[0;34m,\u001b[0m \u001b[0moptimizer\u001b[0m\u001b[0;34m,\u001b[0m \u001b[0mdata_loader\u001b[0m\u001b[0;34m,\u001b[0m \u001b[0mtorch\u001b[0m\u001b[0;34m.\u001b[0m\u001b[0mdevice\u001b[0m\u001b[0;34m(\u001b[0m\u001b[0;34m'cpu'\u001b[0m\u001b[0;34m)\u001b[0m\u001b[0;34m,\u001b[0m \u001b[0mepoch\u001b[0m\u001b[0;34m,\u001b[0m \u001b[0mprint_freq\u001b[0m\u001b[0;34m=\u001b[0m\u001b[0;36m10\u001b[0m\u001b[0;34m)\u001b[0m\u001b[0;34m\u001b[0m\u001b[0;34m\u001b[0m\u001b[0m\n\u001b[0m\u001b[1;32m     54\u001b[0m     \u001b[0;31m# 학습률을 업데이트 합니다\u001b[0m\u001b[0;34m\u001b[0m\u001b[0;34m\u001b[0m\u001b[0;34m\u001b[0m\u001b[0m\n\u001b[1;32m     55\u001b[0m     \u001b[0mlr_scheduler\u001b[0m\u001b[0;34m.\u001b[0m\u001b[0mstep\u001b[0m\u001b[0;34m(\u001b[0m\u001b[0;34m)\u001b[0m\u001b[0;34m\u001b[0m\u001b[0;34m\u001b[0m\u001b[0m\n",
      "\u001b[0;32m~/Desktop/engine.py\u001b[0m in \u001b[0;36mtrain_one_epoch\u001b[0;34m(model, optimizer, data_loader, device, epoch, print_freq)\u001b[0m\n\u001b[1;32m     28\u001b[0m         \u001b[0mtargets\u001b[0m \u001b[0;34m=\u001b[0m \u001b[0;34m[\u001b[0m\u001b[0;34m{\u001b[0m\u001b[0mk\u001b[0m\u001b[0;34m:\u001b[0m \u001b[0mv\u001b[0m\u001b[0;34m.\u001b[0m\u001b[0mto\u001b[0m\u001b[0;34m(\u001b[0m\u001b[0mdevice\u001b[0m\u001b[0;34m)\u001b[0m \u001b[0;32mfor\u001b[0m \u001b[0mk\u001b[0m\u001b[0;34m,\u001b[0m \u001b[0mv\u001b[0m \u001b[0;32min\u001b[0m \u001b[0mt\u001b[0m\u001b[0;34m.\u001b[0m\u001b[0mitems\u001b[0m\u001b[0;34m(\u001b[0m\u001b[0;34m)\u001b[0m\u001b[0;34m}\u001b[0m \u001b[0;32mfor\u001b[0m \u001b[0mt\u001b[0m \u001b[0;32min\u001b[0m \u001b[0mtargets\u001b[0m\u001b[0;34m]\u001b[0m\u001b[0;34m\u001b[0m\u001b[0;34m\u001b[0m\u001b[0m\n\u001b[1;32m     29\u001b[0m \u001b[0;34m\u001b[0m\u001b[0m\n\u001b[0;32m---> 30\u001b[0;31m         \u001b[0mloss_dict\u001b[0m \u001b[0;34m=\u001b[0m \u001b[0mmodel\u001b[0m\u001b[0;34m(\u001b[0m\u001b[0mimages\u001b[0m\u001b[0;34m,\u001b[0m \u001b[0mtargets\u001b[0m\u001b[0;34m)\u001b[0m\u001b[0;34m\u001b[0m\u001b[0;34m\u001b[0m\u001b[0m\n\u001b[0m\u001b[1;32m     31\u001b[0m \u001b[0;34m\u001b[0m\u001b[0m\n\u001b[1;32m     32\u001b[0m         \u001b[0mlosses\u001b[0m \u001b[0;34m=\u001b[0m \u001b[0msum\u001b[0m\u001b[0;34m(\u001b[0m\u001b[0mloss\u001b[0m \u001b[0;32mfor\u001b[0m \u001b[0mloss\u001b[0m \u001b[0;32min\u001b[0m \u001b[0mloss_dict\u001b[0m\u001b[0;34m.\u001b[0m\u001b[0mvalues\u001b[0m\u001b[0;34m(\u001b[0m\u001b[0;34m)\u001b[0m\u001b[0;34m)\u001b[0m\u001b[0;34m\u001b[0m\u001b[0;34m\u001b[0m\u001b[0m\n",
      "\u001b[0;32m~/anaconda3/envs/maskr/lib/python3.6/site-packages/torch/nn/modules/module.py\u001b[0m in \u001b[0;36m__call__\u001b[0;34m(self, *input, **kwargs)\u001b[0m\n\u001b[1;32m    545\u001b[0m             \u001b[0mresult\u001b[0m \u001b[0;34m=\u001b[0m \u001b[0mself\u001b[0m\u001b[0;34m.\u001b[0m\u001b[0m_slow_forward\u001b[0m\u001b[0;34m(\u001b[0m\u001b[0;34m*\u001b[0m\u001b[0minput\u001b[0m\u001b[0;34m,\u001b[0m \u001b[0;34m**\u001b[0m\u001b[0mkwargs\u001b[0m\u001b[0;34m)\u001b[0m\u001b[0;34m\u001b[0m\u001b[0;34m\u001b[0m\u001b[0m\n\u001b[1;32m    546\u001b[0m         \u001b[0;32melse\u001b[0m\u001b[0;34m:\u001b[0m\u001b[0;34m\u001b[0m\u001b[0;34m\u001b[0m\u001b[0m\n\u001b[0;32m--> 547\u001b[0;31m             \u001b[0mresult\u001b[0m \u001b[0;34m=\u001b[0m \u001b[0mself\u001b[0m\u001b[0;34m.\u001b[0m\u001b[0mforward\u001b[0m\u001b[0;34m(\u001b[0m\u001b[0;34m*\u001b[0m\u001b[0minput\u001b[0m\u001b[0;34m,\u001b[0m \u001b[0;34m**\u001b[0m\u001b[0mkwargs\u001b[0m\u001b[0;34m)\u001b[0m\u001b[0;34m\u001b[0m\u001b[0;34m\u001b[0m\u001b[0m\n\u001b[0m\u001b[1;32m    548\u001b[0m         \u001b[0;32mfor\u001b[0m \u001b[0mhook\u001b[0m \u001b[0;32min\u001b[0m \u001b[0mself\u001b[0m\u001b[0;34m.\u001b[0m\u001b[0m_forward_hooks\u001b[0m\u001b[0;34m.\u001b[0m\u001b[0mvalues\u001b[0m\u001b[0;34m(\u001b[0m\u001b[0;34m)\u001b[0m\u001b[0;34m:\u001b[0m\u001b[0;34m\u001b[0m\u001b[0;34m\u001b[0m\u001b[0m\n\u001b[1;32m    549\u001b[0m             \u001b[0mhook_result\u001b[0m \u001b[0;34m=\u001b[0m \u001b[0mhook\u001b[0m\u001b[0;34m(\u001b[0m\u001b[0mself\u001b[0m\u001b[0;34m,\u001b[0m \u001b[0minput\u001b[0m\u001b[0;34m,\u001b[0m \u001b[0mresult\u001b[0m\u001b[0;34m)\u001b[0m\u001b[0;34m\u001b[0m\u001b[0;34m\u001b[0m\u001b[0m\n",
      "\u001b[0;32m~/anaconda3/envs/maskr/lib/python3.6/site-packages/torchvision/models/detection/generalized_rcnn.py\u001b[0m in \u001b[0;36mforward\u001b[0;34m(self, images, targets)\u001b[0m\n\u001b[1;32m     50\u001b[0m             \u001b[0mfeatures\u001b[0m \u001b[0;34m=\u001b[0m \u001b[0mOrderedDict\u001b[0m\u001b[0;34m(\u001b[0m\u001b[0;34m[\u001b[0m\u001b[0;34m(\u001b[0m\u001b[0;36m0\u001b[0m\u001b[0;34m,\u001b[0m \u001b[0mfeatures\u001b[0m\u001b[0;34m)\u001b[0m\u001b[0;34m]\u001b[0m\u001b[0;34m)\u001b[0m\u001b[0;34m\u001b[0m\u001b[0;34m\u001b[0m\u001b[0m\n\u001b[1;32m     51\u001b[0m         \u001b[0mproposals\u001b[0m\u001b[0;34m,\u001b[0m \u001b[0mproposal_losses\u001b[0m \u001b[0;34m=\u001b[0m \u001b[0mself\u001b[0m\u001b[0;34m.\u001b[0m\u001b[0mrpn\u001b[0m\u001b[0;34m(\u001b[0m\u001b[0mimages\u001b[0m\u001b[0;34m,\u001b[0m \u001b[0mfeatures\u001b[0m\u001b[0;34m,\u001b[0m \u001b[0mtargets\u001b[0m\u001b[0;34m)\u001b[0m\u001b[0;34m\u001b[0m\u001b[0;34m\u001b[0m\u001b[0m\n\u001b[0;32m---> 52\u001b[0;31m         \u001b[0mdetections\u001b[0m\u001b[0;34m,\u001b[0m \u001b[0mdetector_losses\u001b[0m \u001b[0;34m=\u001b[0m \u001b[0mself\u001b[0m\u001b[0;34m.\u001b[0m\u001b[0mroi_heads\u001b[0m\u001b[0;34m(\u001b[0m\u001b[0mfeatures\u001b[0m\u001b[0;34m,\u001b[0m \u001b[0mproposals\u001b[0m\u001b[0;34m,\u001b[0m \u001b[0mimages\u001b[0m\u001b[0;34m.\u001b[0m\u001b[0mimage_sizes\u001b[0m\u001b[0;34m,\u001b[0m \u001b[0mtargets\u001b[0m\u001b[0;34m)\u001b[0m\u001b[0;34m\u001b[0m\u001b[0;34m\u001b[0m\u001b[0m\n\u001b[0m\u001b[1;32m     53\u001b[0m         \u001b[0mdetections\u001b[0m \u001b[0;34m=\u001b[0m \u001b[0mself\u001b[0m\u001b[0;34m.\u001b[0m\u001b[0mtransform\u001b[0m\u001b[0;34m.\u001b[0m\u001b[0mpostprocess\u001b[0m\u001b[0;34m(\u001b[0m\u001b[0mdetections\u001b[0m\u001b[0;34m,\u001b[0m \u001b[0mimages\u001b[0m\u001b[0;34m.\u001b[0m\u001b[0mimage_sizes\u001b[0m\u001b[0;34m,\u001b[0m \u001b[0moriginal_image_sizes\u001b[0m\u001b[0;34m)\u001b[0m\u001b[0;34m\u001b[0m\u001b[0;34m\u001b[0m\u001b[0m\n\u001b[1;32m     54\u001b[0m \u001b[0;34m\u001b[0m\u001b[0m\n",
      "\u001b[0;32m~/anaconda3/envs/maskr/lib/python3.6/site-packages/torch/nn/modules/module.py\u001b[0m in \u001b[0;36m__call__\u001b[0;34m(self, *input, **kwargs)\u001b[0m\n\u001b[1;32m    545\u001b[0m             \u001b[0mresult\u001b[0m \u001b[0;34m=\u001b[0m \u001b[0mself\u001b[0m\u001b[0;34m.\u001b[0m\u001b[0m_slow_forward\u001b[0m\u001b[0;34m(\u001b[0m\u001b[0;34m*\u001b[0m\u001b[0minput\u001b[0m\u001b[0;34m,\u001b[0m \u001b[0;34m**\u001b[0m\u001b[0mkwargs\u001b[0m\u001b[0;34m)\u001b[0m\u001b[0;34m\u001b[0m\u001b[0;34m\u001b[0m\u001b[0m\n\u001b[1;32m    546\u001b[0m         \u001b[0;32melse\u001b[0m\u001b[0;34m:\u001b[0m\u001b[0;34m\u001b[0m\u001b[0;34m\u001b[0m\u001b[0m\n\u001b[0;32m--> 547\u001b[0;31m             \u001b[0mresult\u001b[0m \u001b[0;34m=\u001b[0m \u001b[0mself\u001b[0m\u001b[0;34m.\u001b[0m\u001b[0mforward\u001b[0m\u001b[0;34m(\u001b[0m\u001b[0;34m*\u001b[0m\u001b[0minput\u001b[0m\u001b[0;34m,\u001b[0m \u001b[0;34m**\u001b[0m\u001b[0mkwargs\u001b[0m\u001b[0;34m)\u001b[0m\u001b[0;34m\u001b[0m\u001b[0;34m\u001b[0m\u001b[0m\n\u001b[0m\u001b[1;32m    548\u001b[0m         \u001b[0;32mfor\u001b[0m \u001b[0mhook\u001b[0m \u001b[0;32min\u001b[0m \u001b[0mself\u001b[0m\u001b[0;34m.\u001b[0m\u001b[0m_forward_hooks\u001b[0m\u001b[0;34m.\u001b[0m\u001b[0mvalues\u001b[0m\u001b[0;34m(\u001b[0m\u001b[0;34m)\u001b[0m\u001b[0;34m:\u001b[0m\u001b[0;34m\u001b[0m\u001b[0;34m\u001b[0m\u001b[0m\n\u001b[1;32m    549\u001b[0m             \u001b[0mhook_result\u001b[0m \u001b[0;34m=\u001b[0m \u001b[0mhook\u001b[0m\u001b[0;34m(\u001b[0m\u001b[0mself\u001b[0m\u001b[0;34m,\u001b[0m \u001b[0minput\u001b[0m\u001b[0;34m,\u001b[0m \u001b[0mresult\u001b[0m\u001b[0;34m)\u001b[0m\u001b[0;34m\u001b[0m\u001b[0;34m\u001b[0m\u001b[0m\n",
      "\u001b[0;32m~/anaconda3/envs/maskr/lib/python3.6/site-packages/torchvision/models/detection/roi_heads.py\u001b[0m in \u001b[0;36mforward\u001b[0;34m(self, features, proposals, image_shapes, targets)\u001b[0m\n\u001b[1;32m    669\u001b[0m                 loss_mask = maskrcnn_loss(\n\u001b[1;32m    670\u001b[0m                     \u001b[0mmask_logits\u001b[0m\u001b[0;34m,\u001b[0m \u001b[0mmask_proposals\u001b[0m\u001b[0;34m,\u001b[0m\u001b[0;34m\u001b[0m\u001b[0;34m\u001b[0m\u001b[0m\n\u001b[0;32m--> 671\u001b[0;31m                     gt_masks, gt_labels, pos_matched_idxs)\n\u001b[0m\u001b[1;32m    672\u001b[0m                 \u001b[0mloss_mask\u001b[0m \u001b[0;34m=\u001b[0m \u001b[0mdict\u001b[0m\u001b[0;34m(\u001b[0m\u001b[0mloss_mask\u001b[0m\u001b[0;34m=\u001b[0m\u001b[0mloss_mask\u001b[0m\u001b[0;34m)\u001b[0m\u001b[0;34m\u001b[0m\u001b[0;34m\u001b[0m\u001b[0m\n\u001b[1;32m    673\u001b[0m             \u001b[0;32melse\u001b[0m\u001b[0;34m:\u001b[0m\u001b[0;34m\u001b[0m\u001b[0;34m\u001b[0m\u001b[0m\n",
      "\u001b[0;32m~/anaconda3/envs/maskr/lib/python3.6/site-packages/torchvision/models/detection/roi_heads.py\u001b[0m in \u001b[0;36mmaskrcnn_loss\u001b[0;34m(mask_logits, proposals, gt_masks, gt_labels, mask_matched_idxs)\u001b[0m\n\u001b[1;32m    192\u001b[0m     W_targets = [\n\u001b[1;32m    193\u001b[0m         \u001b[0mproject_masks_on_boxes\u001b[0m\u001b[0;34m(\u001b[0m\u001b[0mm\u001b[0m\u001b[0;34m,\u001b[0m \u001b[0mp\u001b[0m\u001b[0;34m,\u001b[0m \u001b[0mi\u001b[0m\u001b[0;34m,\u001b[0m \u001b[0mdiscretization_size\u001b[0m\u001b[0;34m)\u001b[0m\u001b[0;34m\u001b[0m\u001b[0;34m\u001b[0m\u001b[0m\n\u001b[0;32m--> 194\u001b[0;31m         \u001b[0;32mfor\u001b[0m \u001b[0mm\u001b[0m\u001b[0;34m,\u001b[0m \u001b[0mp\u001b[0m\u001b[0;34m,\u001b[0m \u001b[0mi\u001b[0m \u001b[0;32min\u001b[0m \u001b[0mzip\u001b[0m\u001b[0;34m(\u001b[0m\u001b[0mW_masks\u001b[0m\u001b[0;34m,\u001b[0m \u001b[0mproposals\u001b[0m\u001b[0;34m,\u001b[0m \u001b[0mmask_matched_idxs\u001b[0m\u001b[0;34m)\u001b[0m\u001b[0;34m\u001b[0m\u001b[0;34m\u001b[0m\u001b[0m\n\u001b[0m\u001b[1;32m    195\u001b[0m     ]\n\u001b[1;32m    196\u001b[0m \u001b[0;34m\u001b[0m\u001b[0m\n",
      "\u001b[0;32m~/anaconda3/envs/maskr/lib/python3.6/site-packages/torchvision/models/detection/roi_heads.py\u001b[0m in \u001b[0;36m<listcomp>\u001b[0;34m(.0)\u001b[0m\n\u001b[1;32m    192\u001b[0m     W_targets = [\n\u001b[1;32m    193\u001b[0m         \u001b[0mproject_masks_on_boxes\u001b[0m\u001b[0;34m(\u001b[0m\u001b[0mm\u001b[0m\u001b[0;34m,\u001b[0m \u001b[0mp\u001b[0m\u001b[0;34m,\u001b[0m \u001b[0mi\u001b[0m\u001b[0;34m,\u001b[0m \u001b[0mdiscretization_size\u001b[0m\u001b[0;34m)\u001b[0m\u001b[0;34m\u001b[0m\u001b[0;34m\u001b[0m\u001b[0m\n\u001b[0;32m--> 194\u001b[0;31m         \u001b[0;32mfor\u001b[0m \u001b[0mm\u001b[0m\u001b[0;34m,\u001b[0m \u001b[0mp\u001b[0m\u001b[0;34m,\u001b[0m \u001b[0mi\u001b[0m \u001b[0;32min\u001b[0m \u001b[0mzip\u001b[0m\u001b[0;34m(\u001b[0m\u001b[0mW_masks\u001b[0m\u001b[0;34m,\u001b[0m \u001b[0mproposals\u001b[0m\u001b[0;34m,\u001b[0m \u001b[0mmask_matched_idxs\u001b[0m\u001b[0;34m)\u001b[0m\u001b[0;34m\u001b[0m\u001b[0;34m\u001b[0m\u001b[0m\n\u001b[0m\u001b[1;32m    195\u001b[0m     ]\n\u001b[1;32m    196\u001b[0m \u001b[0;34m\u001b[0m\u001b[0m\n",
      "\u001b[0;32m~/anaconda3/envs/maskr/lib/python3.6/site-packages/torchvision/models/detection/roi_heads.py\u001b[0m in \u001b[0;36mproject_masks_on_boxes\u001b[0;34m(gt_masks, boxes, matched_idxs, M)\u001b[0m\n\u001b[1;32m     90\u001b[0m     \u001b[0mrois\u001b[0m \u001b[0;34m=\u001b[0m \u001b[0mtorch\u001b[0m\u001b[0;34m.\u001b[0m\u001b[0mcat\u001b[0m\u001b[0;34m(\u001b[0m\u001b[0;34m[\u001b[0m\u001b[0mmatched_idxs\u001b[0m\u001b[0;34m[\u001b[0m\u001b[0;34m:\u001b[0m\u001b[0;34m,\u001b[0m \u001b[0;32mNone\u001b[0m\u001b[0;34m]\u001b[0m\u001b[0;34m,\u001b[0m \u001b[0mboxes\u001b[0m\u001b[0;34m]\u001b[0m\u001b[0;34m,\u001b[0m \u001b[0mdim\u001b[0m\u001b[0;34m=\u001b[0m\u001b[0;36m1\u001b[0m\u001b[0;34m)\u001b[0m\u001b[0;34m\u001b[0m\u001b[0;34m\u001b[0m\u001b[0m\n\u001b[1;32m     91\u001b[0m     \u001b[0mgt_masks\u001b[0m \u001b[0;34m=\u001b[0m \u001b[0mgt_masks\u001b[0m\u001b[0;34m[\u001b[0m\u001b[0;34m:\u001b[0m\u001b[0;34m,\u001b[0m \u001b[0;32mNone\u001b[0m\u001b[0;34m]\u001b[0m\u001b[0;34m.\u001b[0m\u001b[0mto\u001b[0m\u001b[0;34m(\u001b[0m\u001b[0mrois\u001b[0m\u001b[0;34m)\u001b[0m\u001b[0;34m\u001b[0m\u001b[0;34m\u001b[0m\u001b[0m\n\u001b[0;32m---> 92\u001b[0;31m     \u001b[0;32mreturn\u001b[0m \u001b[0mroi_align\u001b[0m\u001b[0;34m(\u001b[0m\u001b[0mgt_masks\u001b[0m\u001b[0;34m,\u001b[0m \u001b[0mrois\u001b[0m\u001b[0;34m,\u001b[0m \u001b[0;34m(\u001b[0m\u001b[0mM\u001b[0m\u001b[0;34m,\u001b[0m \u001b[0mM\u001b[0m\u001b[0;34m)\u001b[0m\u001b[0;34m,\u001b[0m \u001b[0;36m1\u001b[0m\u001b[0;34m)\u001b[0m\u001b[0;34m[\u001b[0m\u001b[0;34m:\u001b[0m\u001b[0;34m,\u001b[0m \u001b[0;36m0\u001b[0m\u001b[0;34m]\u001b[0m\u001b[0;34m\u001b[0m\u001b[0;34m\u001b[0m\u001b[0m\n\u001b[0m\u001b[1;32m     93\u001b[0m \u001b[0;34m\u001b[0m\u001b[0m\n\u001b[1;32m     94\u001b[0m \u001b[0;34m\u001b[0m\u001b[0m\n",
      "\u001b[0;32m~/anaconda3/envs/maskr/lib/python3.6/site-packages/torchvision/ops/roi_align.py\u001b[0m in \u001b[0;36mroi_align\u001b[0;34m(input, boxes, output_size, spatial_scale, sampling_ratio)\u001b[0m\n\u001b[1;32m     67\u001b[0m     \u001b[0;32mif\u001b[0m \u001b[0;32mnot\u001b[0m \u001b[0misinstance\u001b[0m\u001b[0;34m(\u001b[0m\u001b[0mrois\u001b[0m\u001b[0;34m,\u001b[0m \u001b[0mtorch\u001b[0m\u001b[0;34m.\u001b[0m\u001b[0mTensor\u001b[0m\u001b[0;34m)\u001b[0m\u001b[0;34m:\u001b[0m\u001b[0;34m\u001b[0m\u001b[0;34m\u001b[0m\u001b[0m\n\u001b[1;32m     68\u001b[0m         \u001b[0mrois\u001b[0m \u001b[0;34m=\u001b[0m \u001b[0mconvert_boxes_to_roi_format\u001b[0m\u001b[0;34m(\u001b[0m\u001b[0mrois\u001b[0m\u001b[0;34m)\u001b[0m\u001b[0;34m\u001b[0m\u001b[0;34m\u001b[0m\u001b[0m\n\u001b[0;32m---> 69\u001b[0;31m     \u001b[0;32mreturn\u001b[0m \u001b[0m_RoIAlignFunction\u001b[0m\u001b[0;34m.\u001b[0m\u001b[0mapply\u001b[0m\u001b[0;34m(\u001b[0m\u001b[0minput\u001b[0m\u001b[0;34m,\u001b[0m \u001b[0mrois\u001b[0m\u001b[0;34m,\u001b[0m \u001b[0moutput_size\u001b[0m\u001b[0;34m,\u001b[0m \u001b[0mspatial_scale\u001b[0m\u001b[0;34m,\u001b[0m \u001b[0msampling_ratio\u001b[0m\u001b[0;34m)\u001b[0m\u001b[0;34m\u001b[0m\u001b[0;34m\u001b[0m\u001b[0m\n\u001b[0m\u001b[1;32m     70\u001b[0m \u001b[0;34m\u001b[0m\u001b[0m\n\u001b[1;32m     71\u001b[0m \u001b[0;34m\u001b[0m\u001b[0m\n",
      "\u001b[0;32m~/anaconda3/envs/maskr/lib/python3.6/site-packages/torchvision/ops/roi_align.py\u001b[0m in \u001b[0;36mforward\u001b[0;34m(ctx, input, roi, output_size, spatial_scale, sampling_ratio)\u001b[0m\n\u001b[1;32m     22\u001b[0m         output = _C.roi_align_forward(\n\u001b[1;32m     23\u001b[0m             \u001b[0minput\u001b[0m\u001b[0;34m,\u001b[0m \u001b[0mroi\u001b[0m\u001b[0;34m,\u001b[0m \u001b[0mspatial_scale\u001b[0m\u001b[0;34m,\u001b[0m\u001b[0;34m\u001b[0m\u001b[0;34m\u001b[0m\u001b[0m\n\u001b[0;32m---> 24\u001b[0;31m             output_size[0], output_size[1], sampling_ratio)\n\u001b[0m\u001b[1;32m     25\u001b[0m         \u001b[0;32mreturn\u001b[0m \u001b[0moutput\u001b[0m\u001b[0;34m\u001b[0m\u001b[0;34m\u001b[0m\u001b[0m\n\u001b[1;32m     26\u001b[0m \u001b[0;34m\u001b[0m\u001b[0m\n",
      "\u001b[0;31mRuntimeError\u001b[0m: Dimension out of range (expected to be in range of [-3, 2], but got 3) (maybe_wrap_dim at /opt/conda/conda-bld/pytorch_1565272279342/work/c10/core/WrapDimMinimal.h:20)\nframe #0: c10::Error::Error(c10::SourceLocation, std::string const&) + 0x47 (0x7fa5e9732e37 in /home/kkm/anaconda3/envs/maskr/lib/python3.6/site-packages/torch/lib/libc10.so)\nframe #1: <unknown function> + 0x17dbd5c (0x7fa5ed086d5c in /home/kkm/anaconda3/envs/maskr/lib/python3.6/site-packages/torch/lib/libtorch.so)\nframe #2: at::native::size(at::Tensor const&, long) + 0x20 (0x7fa5ed087010 in /home/kkm/anaconda3/envs/maskr/lib/python3.6/site-packages/torch/lib/libtorch.so)\nframe #3: ROIAlign_forward_cpu(at::Tensor const&, at::Tensor const&, float, int, int, int) + 0x460 (0x7fa5a1addd8c in /home/kkm/anaconda3/envs/maskr/lib/python3.6/site-packages/torchvision/_C.cpython-36m-x86_64-linux-gnu.so)\nframe #4: ROIAlign_forward(at::Tensor const&, at::Tensor const&, float, int, int, int) + 0x92 (0x7fa5a1ab56a6 in /home/kkm/anaconda3/envs/maskr/lib/python3.6/site-packages/torchvision/_C.cpython-36m-x86_64-linux-gnu.so)\nframe #5: <unknown function> + 0x5e31e (0x7fa5a1ad731e in /home/kkm/anaconda3/envs/maskr/lib/python3.6/site-packages/torchvision/_C.cpython-36m-x86_64-linux-gnu.so)\nframe #6: <unknown function> + 0x5b2d8 (0x7fa5a1ad42d8 in /home/kkm/anaconda3/envs/maskr/lib/python3.6/site-packages/torchvision/_C.cpython-36m-x86_64-linux-gnu.so)\nframe #7: <unknown function> + 0x56deb (0x7fa5a1acfdeb in /home/kkm/anaconda3/envs/maskr/lib/python3.6/site-packages/torchvision/_C.cpython-36m-x86_64-linux-gnu.so)\nframe #8: <unknown function> + 0x57090 (0x7fa5a1ad0090 in /home/kkm/anaconda3/envs/maskr/lib/python3.6/site-packages/torchvision/_C.cpython-36m-x86_64-linux-gnu.so)\nframe #9: <unknown function> + 0x48047 (0x7fa5a1ac1047 in /home/kkm/anaconda3/envs/maskr/lib/python3.6/site-packages/torchvision/_C.cpython-36m-x86_64-linux-gnu.so)\nframe #10: _PyCFunction_FastCallDict + 0x154 (0x5622e79b9a14 in /home/kkm/anaconda3/envs/maskr/bin/python)\nframe #11: <unknown function> + 0x19aa5c (0x5622e7a41a5c in /home/kkm/anaconda3/envs/maskr/bin/python)\nframe #12: _PyEval_EvalFrameDefault + 0x30a (0x5622e7a6425a in /home/kkm/anaconda3/envs/maskr/bin/python)\nframe #13: PyEval_EvalCodeEx + 0x329 (0x5622e7a3c969 in /home/kkm/anaconda3/envs/maskr/bin/python)\nframe #14: <unknown function> + 0x196784 (0x5622e7a3d784 in /home/kkm/anaconda3/envs/maskr/bin/python)\nframe #15: PyObject_Call + 0x3e (0x5622e79b981e in /home/kkm/anaconda3/envs/maskr/bin/python)\nframe #16: THPFunction_apply(_object*, _object*) + 0x98f (0x7fa61adb44bf in /home/kkm/anaconda3/envs/maskr/lib/python3.6/site-packages/torch/lib/libtorch_python.so)\nframe #17: _PyCFunction_FastCallDict + 0x91 (0x5622e79b9951 in /home/kkm/anaconda3/envs/maskr/bin/python)\nframe #18: <unknown function> + 0x19aa5c (0x5622e7a41a5c in /home/kkm/anaconda3/envs/maskr/bin/python)\nframe #19: _PyEval_EvalFrameDefault + 0x30a (0x5622e7a6425a in /home/kkm/anaconda3/envs/maskr/bin/python)\nframe #20: <unknown function> + 0x193fd4 (0x5622e7a3afd4 in /home/kkm/anaconda3/envs/maskr/bin/python)\nframe #21: <unknown function> + 0x194e51 (0x5622e7a3be51 in /home/kkm/anaconda3/envs/maskr/bin/python)\nframe #22: <unknown function> + 0x19ab35 (0x5622e7a41b35 in /home/kkm/anaconda3/envs/maskr/bin/python)\nframe #23: _PyEval_EvalFrameDefault + 0x30a (0x5622e7a6425a in /home/kkm/anaconda3/envs/maskr/bin/python)\nframe #24: <unknown function> + 0x194c1b (0x5622e7a3bc1b in /home/kkm/anaconda3/envs/maskr/bin/python)\nframe #25: <unknown function> + 0x19ab35 (0x5622e7a41b35 in /home/kkm/anaconda3/envs/maskr/bin/python)\nframe #26: _PyEval_EvalFrameDefault + 0x30a (0x5622e7a6425a in /home/kkm/anaconda3/envs/maskr/bin/python)\nframe #27: <unknown function> + 0x194166 (0x5622e7a3b166 in /home/kkm/anaconda3/envs/maskr/bin/python)\nframe #28: <unknown function> + 0x194e51 (0x5622e7a3be51 in /home/kkm/anaconda3/envs/maskr/bin/python)\nframe #29: <unknown function> + 0x19ab35 (0x5622e7a41b35 in /home/kkm/anaconda3/envs/maskr/bin/python)\nframe #30: _PyEval_EvalFrameDefault + 0x30a (0x5622e7a6425a in /home/kkm/anaconda3/envs/maskr/bin/python)\nframe #31: <unknown function> + 0x1942ce (0x5622e7a3b2ce in /home/kkm/anaconda3/envs/maskr/bin/python)\nframe #32: <unknown function> + 0x194e51 (0x5622e7a3be51 in /home/kkm/anaconda3/envs/maskr/bin/python)\nframe #33: <unknown function> + 0x19ab35 (0x5622e7a41b35 in /home/kkm/anaconda3/envs/maskr/bin/python)\nframe #34: _PyEval_EvalFrameDefault + 0x30a (0x5622e7a6425a in /home/kkm/anaconda3/envs/maskr/bin/python)\nframe #35: <unknown function> + 0x193fd4 (0x5622e7a3afd4 in /home/kkm/anaconda3/envs/maskr/bin/python)\nframe #36: _PyFunction_FastCallDict + 0x3da (0x5622e7a3c54a in /home/kkm/anaconda3/envs/maskr/bin/python)\nframe #37: _PyObject_FastCallDict + 0x26f (0x5622e79b9ddf in /home/kkm/anaconda3/envs/maskr/bin/python)\nframe #38: _PyObject_Call_Prepend + 0x63 (0x5622e79be873 in /home/kkm/anaconda3/envs/maskr/bin/python)\nframe #39: PyObject_Call + 0x3e (0x5622e79b981e in /home/kkm/anaconda3/envs/maskr/bin/python)\nframe #40: _PyEval_EvalFrameDefault + 0x196b (0x5622e7a658bb in /home/kkm/anaconda3/envs/maskr/bin/python)\nframe #41: <unknown function> + 0x193fd4 (0x5622e7a3afd4 in /home/kkm/anaconda3/envs/maskr/bin/python)\nframe #42: _PyFunction_FastCallDict + 0x1bc (0x5622e7a3c32c in /home/kkm/anaconda3/envs/maskr/bin/python)\nframe #43: _PyObject_FastCallDict + 0x26f (0x5622e79b9ddf in /home/kkm/anaconda3/envs/maskr/bin/python)\nframe #44: _PyObject_Call_Prepend + 0x63 (0x5622e79be873 in /home/kkm/anaconda3/envs/maskr/bin/python)\nframe #45: PyObject_Call + 0x3e (0x5622e79b981e in /home/kkm/anaconda3/envs/maskr/bin/python)\nframe #46: <unknown function> + 0x16c211 (0x5622e7a13211 in /home/kkm/anaconda3/envs/maskr/bin/python)\nframe #47: _PyObject_FastCallDict + 0x8b (0x5622e79b9bfb in /home/kkm/anaconda3/envs/maskr/bin/python)\nframe #48: <unknown function> + 0x19abae (0x5622e7a41bae in /home/kkm/anaconda3/envs/maskr/bin/python)\nframe #49: _PyEval_EvalFrameDefault + 0x30a (0x5622e7a6425a in /home/kkm/anaconda3/envs/maskr/bin/python)\nframe #50: <unknown function> + 0x193fd4 (0x5622e7a3afd4 in /home/kkm/anaconda3/envs/maskr/bin/python)\nframe #51: _PyFunction_FastCallDict + 0x3da (0x5622e7a3c54a in /home/kkm/anaconda3/envs/maskr/bin/python)\nframe #52: _PyObject_FastCallDict + 0x26f (0x5622e79b9ddf in /home/kkm/anaconda3/envs/maskr/bin/python)\nframe #53: _PyObject_Call_Prepend + 0x63 (0x5622e79be873 in /home/kkm/anaconda3/envs/maskr/bin/python)\nframe #54: PyObject_Call + 0x3e (0x5622e79b981e in /home/kkm/anaconda3/envs/maskr/bin/python)\nframe #55: _PyEval_EvalFrameDefault + 0x196b (0x5622e7a658bb in /home/kkm/anaconda3/envs/maskr/bin/python)\nframe #56: <unknown function> + 0x193fd4 (0x5622e7a3afd4 in /home/kkm/anaconda3/envs/maskr/bin/python)\nframe #57: _PyFunction_FastCallDict + 0x1bc (0x5622e7a3c32c in /home/kkm/anaconda3/envs/maskr/bin/python)\nframe #58: _PyObject_FastCallDict + 0x26f (0x5622e79b9ddf in /home/kkm/anaconda3/envs/maskr/bin/python)\nframe #59: _PyObject_Call_Prepend + 0x63 (0x5622e79be873 in /home/kkm/anaconda3/envs/maskr/bin/python)\nframe #60: PyObject_Call + 0x3e (0x5622e79b981e in /home/kkm/anaconda3/envs/maskr/bin/python)\nframe #61: <unknown function> + 0x16c211 (0x5622e7a13211 in /home/kkm/anaconda3/envs/maskr/bin/python)\nframe #62: _PyObject_FastCallDict + 0x8b (0x5622e79b9bfb in /home/kkm/anaconda3/envs/maskr/bin/python)\nframe #63: <unknown function> + 0x19abae (0x5622e7a41bae in /home/kkm/anaconda3/envs/maskr/bin/python)\n"
     ]
    }
   ],
   "source": [
    "from engine import train_one_epoch, evaluate\n",
    "import utils\n",
    "\n",
    "\n",
    "# def main():\n",
    "# 학습을 GPU로 진행하되 GPU가 가용하지 않으면 CPU로 합니다\n",
    "device = torch.device('cuda') if torch.cuda.is_available() else torch.device('cpu')\n",
    "\n",
    "# 우리 데이터셋은 두 개의 클래스만 가집니다 - 배경과 사람\n",
    "num_classes = 2\n",
    "# 데이터셋과 정의된 변환들을 사용합니다\n",
    "dataset = PennFudanDataset( get_transform(train=True))\n",
    "dataset_test = PennFudanDataset(get_transform(train=False))\n",
    "\n",
    "# dataset = PennFudanDataset()\n",
    "# dataset_test = PennFudanDataset()\n",
    "\n",
    "\n",
    "# 데이터셋을 학습용과 테스트용으로 나눕니다(역자주: 여기서는 전체의 50개를 테스트에, 나머지를 학습에 사용합니다)\n",
    "indices = torch.randperm(len(dataset)).tolist()\n",
    "# dataset = torch.utils.data.Subset(dataset, indices[:4])\n",
    "# dataset_test = torch.utils.data.Subset(dataset_test, indices[:4])\n",
    "\n",
    "# 데이터 로더를 학습용과 검증용으로 정의합니다\n",
    "data_loader = torch.utils.data.DataLoader(\n",
    "    dataset, batch_size=2, shuffle=True, num_workers=4,\n",
    "    collate_fn=utils.collate_fn)\n",
    "\n",
    "data_loader_test = torch.utils.data.DataLoader(\n",
    "    dataset_test, batch_size=1, shuffle=False, num_workers=4,\n",
    "    collate_fn=utils.collate_fn)\n",
    "\n",
    "# 도움 함수를 이용해 모델을 가져옵니다\n",
    "model = get_model_instance_segmentation(num_classes)\n",
    "\n",
    "# 모델을 GPU나 CPU로 옮깁니다\n",
    "model.to(torch.device('cpu'))\n",
    "\n",
    "# 옵티마이저(Optimizer)를 만듭니다\n",
    "params = [p for p in model.parameters() if p.requires_grad]\n",
    "optimizer = torch.optim.SGD(params, lr=0.005,\n",
    "                            momentum=0.9, weight_decay=0.0005)\n",
    "# 학습률 스케쥴러를 만듭니다\n",
    "lr_scheduler = torch.optim.lr_scheduler.StepLR(optimizer,\n",
    "                                               step_size=3,\n",
    "                                               gamma=0.1)\n",
    "\n",
    "# 10 에포크만큼 학습해봅시다\n",
    "num_epochs = 10\n",
    "\n",
    "for epoch in range(num_epochs):\n",
    "    # 1 에포크동안 학습하고, 10회 마다 출력합니다\n",
    "    train_one_epoch(model, optimizer, data_loader, torch.device('cpu'), epoch, print_freq=10)\n",
    "    # 학습률을 업데이트 합니다\n",
    "    lr_scheduler.step()\n",
    "    # 테스트 데이터셋에서 평가를 합니다\n",
    "    evaluate(model, data_loader_test, device=device)\n",
    "\n",
    "print(\"That's it!\")"
   ]
  },
  {
   "cell_type": "code",
   "execution_count": 23,
   "metadata": {
    "collapsed": true
   },
   "outputs": [],
   "source": [
    "data_loader = torch.utils.data.DataLoader(\n",
    "    dataset, batch_size=2, shuffle=True, num_workers=4,\n",
    "    collate_fn=utils.collate_fn)"
   ]
  },
  {
   "cell_type": "code",
   "execution_count": 24,
   "metadata": {},
   "outputs": [
    {
     "data": {
      "text/plain": [
       "<torch.utils.data.dataloader.DataLoader at 0x7f0fd00fbef0>"
      ]
     },
     "execution_count": 24,
     "metadata": {},
     "output_type": "execute_result"
    }
   ],
   "source": [
    "data_loader"
   ]
  },
  {
   "cell_type": "code",
   "execution_count": 25,
   "metadata": {
    "collapsed": true
   },
   "outputs": [],
   "source": [
    "a,_,_ =iter(data_loader)\n",
    "targets = a[1]"
   ]
  },
  {
   "cell_type": "code",
   "execution_count": 26,
   "metadata": {
    "collapsed": true
   },
   "outputs": [],
   "source": [
    "gt_masks = [t[\"masks\"] for t in targets]"
   ]
  },
  {
   "cell_type": "code",
   "execution_count": 27,
   "metadata": {},
   "outputs": [
    {
     "data": {
      "text/plain": [
       "2"
      ]
     },
     "execution_count": 27,
     "metadata": {},
     "output_type": "execute_result"
    }
   ],
   "source": [
    "len(gt_masks)"
   ]
  },
  {
   "cell_type": "code",
   "execution_count": 28,
   "metadata": {},
   "outputs": [
    {
     "data": {
      "text/plain": [
       "torch.Size([4, 512, 512])"
      ]
     },
     "execution_count": 28,
     "metadata": {},
     "output_type": "execute_result"
    }
   ],
   "source": [
    "gt_masks[0].shape"
   ]
  },
  {
   "cell_type": "code",
   "execution_count": 29,
   "metadata": {},
   "outputs": [
    {
     "data": {
      "text/plain": [
       "torch.Size([4, 512, 512])"
      ]
     },
     "execution_count": 29,
     "metadata": {},
     "output_type": "execute_result"
    }
   ],
   "source": [
    "gt_masks[1].shape"
   ]
  },
  {
   "cell_type": "code",
   "execution_count": 50,
   "metadata": {
    "collapsed": true
   },
   "outputs": [],
   "source": [
    "weight_f = []\n",
    "w0=10\n",
    "sigma=100\n",
    "for i in np.arange(len(gt_masks)):\n",
    "    masks = gt_masks[i]\n",
    "    merged_mask = torch.sum(masks,dim=0)\n",
    "    weight = np.zeros(merged_mask.shape)\n",
    "    # calculate weight for important pixels\n",
    "    distances = np.array([ndimage.distance_transform_edt(m == 0) for m in masks])\n",
    "    shortest_dist = np.sort(distances, axis=0)     \n",
    "    # distance to the border of the nearest cell   \n",
    "    d1 = shortest_dist[0]\n",
    "    # distance to the border of the second nearest cell\n",
    "    d2 = shortest_dist[1] if len(shortest_dist) > 1 else np.zeros(d1.shape)\n",
    "    w_b = np.exp(-((d1 + d2) ** 2 / (2 * (sigma ** 2))))\n",
    "    w_c = getweightmap(merged_mask)\n",
    "    w = w_c +  (w0 * w_b)\n",
    "    # min = np.min(w[np.where(w>0)])\n",
    "    # weight = (merged_mask == 1) * (w-min)\n",
    "    weight = (merged_mask == 1).float().mul(torch.from_numpy(w).float()).int()\n",
    "    # weight = w\n",
    "    # return weight\n",
    "    weight2=weight.unsqueeze(0)\n",
    "    weight3=torch.cat((weight2,weight2),dim=0)\n",
    "    weight4=torch.cat((weight3,weight2),dim=0)\n",
    "    weight5=torch.cat((weight4,weight2),dim=0)\n",
    "    weight_f.append(weight5)"
   ]
  },
  {
   "cell_type": "code",
   "execution_count": 51,
   "metadata": {},
   "outputs": [
    {
     "data": {
      "text/plain": [
       "2"
      ]
     },
     "execution_count": 51,
     "metadata": {},
     "output_type": "execute_result"
    }
   ],
   "source": [
    "len(weight_f)"
   ]
  },
  {
   "cell_type": "code",
   "execution_count": 52,
   "metadata": {},
   "outputs": [
    {
     "data": {
      "text/plain": [
       "torch.Size([4, 512, 512])"
      ]
     },
     "execution_count": 52,
     "metadata": {},
     "output_type": "execute_result"
    }
   ],
   "source": [
    "weight_f[0].shape"
   ]
  },
  {
   "cell_type": "code",
   "execution_count": 53,
   "metadata": {},
   "outputs": [
    {
     "data": {
      "text/plain": [
       "torch.Size([4, 512, 512])"
      ]
     },
     "execution_count": 53,
     "metadata": {},
     "output_type": "execute_result"
    }
   ],
   "source": [
    "weight_f[1].shape"
   ]
  },
  {
   "cell_type": "code",
   "execution_count": 54,
   "metadata": {},
   "outputs": [
    {
     "data": {
      "text/plain": [
       "torch.uint8"
      ]
     },
     "execution_count": 54,
     "metadata": {},
     "output_type": "execute_result"
    }
   ],
   "source": [
    "gt_masks[0].dtype"
   ]
  },
  {
   "cell_type": "code",
   "execution_count": 55,
   "metadata": {},
   "outputs": [
    {
     "data": {
      "text/plain": [
       "torch.int32"
      ]
     },
     "execution_count": 55,
     "metadata": {},
     "output_type": "execute_result"
    }
   ],
   "source": [
    "weight_f[0].dtype"
   ]
  },
  {
   "cell_type": "code",
   "execution_count": 40,
   "metadata": {},
   "outputs": [
    {
     "data": {
      "text/plain": [
       "tensor([[[0, 0, 0,  ..., 0, 0, 0],\n",
       "         [0, 0, 0,  ..., 0, 0, 0],\n",
       "         [0, 0, 0,  ..., 0, 0, 0],\n",
       "         ...,\n",
       "         [0, 0, 0,  ..., 0, 0, 0],\n",
       "         [0, 0, 0,  ..., 0, 0, 0],\n",
       "         [0, 0, 0,  ..., 0, 0, 0]],\n",
       "\n",
       "        [[0, 0, 0,  ..., 0, 0, 0],\n",
       "         [0, 0, 0,  ..., 0, 0, 0],\n",
       "         [0, 0, 0,  ..., 0, 0, 0],\n",
       "         ...,\n",
       "         [0, 0, 0,  ..., 0, 0, 0],\n",
       "         [0, 0, 0,  ..., 0, 0, 0],\n",
       "         [0, 0, 0,  ..., 0, 0, 0]],\n",
       "\n",
       "        [[0, 0, 0,  ..., 0, 0, 0],\n",
       "         [0, 0, 0,  ..., 0, 0, 0],\n",
       "         [0, 0, 0,  ..., 0, 0, 0],\n",
       "         ...,\n",
       "         [0, 0, 0,  ..., 0, 0, 0],\n",
       "         [0, 0, 0,  ..., 0, 0, 0],\n",
       "         [0, 0, 0,  ..., 0, 0, 0]],\n",
       "\n",
       "        [[0, 0, 0,  ..., 0, 0, 0],\n",
       "         [0, 0, 0,  ..., 0, 0, 0],\n",
       "         [0, 0, 0,  ..., 0, 0, 0],\n",
       "         ...,\n",
       "         [0, 0, 0,  ..., 0, 0, 0],\n",
       "         [0, 0, 0,  ..., 0, 0, 0],\n",
       "         [0, 0, 0,  ..., 0, 0, 0]]], dtype=torch.int32)"
      ]
     },
     "execution_count": 40,
     "metadata": {},
     "output_type": "execute_result"
    }
   ],
   "source": [
    "weight_f[0].int()"
   ]
  },
  {
   "cell_type": "code",
   "execution_count": null,
   "metadata": {
    "collapsed": true
   },
   "outputs": [],
   "source": []
  },
  {
   "cell_type": "code",
   "execution_count": null,
   "metadata": {
    "collapsed": true
   },
   "outputs": [],
   "source": [
    "def maskrcnn_loss(mask_logits, proposals, gt_masks, gt_labels, mask_matched_idxs):\n",
    "    \"\"\"\n",
    "    Arguments:\n",
    "        proposals (list[BoxList])\n",
    "        mask_logits (Tensor)\n",
    "        targets (list[BoxList])\n",
    "\n",
    "    Return:\n",
    "        mask_loss (Tensor): scalar tensor containing the loss\n",
    "    \"\"\"\n",
    "#     gt_masks2 = gt_masks.cpu()\n",
    "#     W_mask_tmp = (np.array(gt_masks) == 1 ).astype(np.float)\n",
    "#     W_merged_mask = np.max(gt_masks, axis=2)       \n",
    "    W_masks = getunetweightmap(gt_masks, w0=10, sigma=5)\n",
    "\n",
    "    discretization_size = mask_logits.shape[-1]\n",
    "    labels = [l[idxs] for l, idxs in zip(gt_labels, mask_matched_idxs)]\n",
    "    \n",
    "    mask_targets = [\n",
    "        project_masks_on_boxes(m, p, i, discretization_size)\n",
    "        for m, p, i in zip(gt_masks, proposals, mask_matched_idxs)\n",
    "    ]\n",
    "    \n",
    "    W_targets = [\n",
    "    project_masks_on_boxes(m, p, i, discretization_size)\n",
    "    for m, p, i in zip(W_masks, proposals, mask_matched_idxs)\n",
    "    ]\n",
    "\n",
    "    labels = torch.cat(labels, dim=0)\n",
    "    \n",
    "    mask_targets = torch.cat(mask_targets, dim=0)\n",
    "    \n",
    "    W_targets = torch.cat(W_targets, dim=0)\n",
    "    \n",
    "\n",
    "    # torch.mean (in binary_cross_entropy_with_logits) doesn't\n",
    "    # accept empty tensors, so handle it separately\n",
    "    if mask_targets.numel() == 0:\n",
    "        return mask_logits.sum() * 0\n",
    "\n",
    "    mask_loss = F.binary_cross_entropy_with_logits(\n",
    "        mask_logits[torch.arange(labels.shape[0], device=labels.device), labels], mask_targets\n",
    "        ,pos_weight=W_targets\n",
    "    )\n",
    "    return mask_loss"
   ]
  },
  {
   "cell_type": "code",
   "execution_count": 61,
   "metadata": {
    "collapsed": true
   },
   "outputs": [],
   "source": [
    "roi_heads??"
   ]
  },
  {
   "cell_type": "code",
   "execution_count": 63,
   "metadata": {
    "collapsed": true
   },
   "outputs": [],
   "source": [
    "def getweightmap(mask):\n",
    "#     assert mask.size > 0\n",
    "    mask = mask[0]\n",
    "    w_c = torch.empty(mask.shape)\n",
    "    frac0 = torch.sum(mask == 0) / float(mask.size)        # background\n",
    "    frac1 = torch.sum(mask == 1) / float(mask.size)        # instance\n",
    "#     assert frac0 > 0\n",
    "#     assert frac1 > 0\n",
    "    # Calculate weight map\n",
    "    w_c[mask == 0] = 0.5 / (frac0)\n",
    "    w_c[mask == 1] = 0.5 / (frac1)\n",
    "    return w_c"
   ]
  },
  {
   "cell_type": "code",
   "execution_count": 65,
   "metadata": {},
   "outputs": [
    {
     "data": {
      "text/plain": [
       "torch.Size([4, 512, 512])"
      ]
     },
     "execution_count": 65,
     "metadata": {},
     "output_type": "execute_result"
    }
   ],
   "source": [
    "gt_masks[0].shape"
   ]
  },
  {
   "cell_type": "code",
   "execution_count": 72,
   "metadata": {},
   "outputs": [
    {
     "data": {
      "text/plain": [
       "tensor([[[True, True, True,  ..., True, True, True],\n",
       "         [True, True, True,  ..., True, True, True],\n",
       "         [True, True, True,  ..., True, True, True],\n",
       "         ...,\n",
       "         [True, True, True,  ..., True, True, True],\n",
       "         [True, True, True,  ..., True, True, True],\n",
       "         [True, True, True,  ..., True, True, True]],\n",
       "\n",
       "        [[True, True, True,  ..., True, True, True],\n",
       "         [True, True, True,  ..., True, True, True],\n",
       "         [True, True, True,  ..., True, True, True],\n",
       "         ...,\n",
       "         [True, True, True,  ..., True, True, True],\n",
       "         [True, True, True,  ..., True, True, True],\n",
       "         [True, True, True,  ..., True, True, True]],\n",
       "\n",
       "        [[True, True, True,  ..., True, True, True],\n",
       "         [True, True, True,  ..., True, True, True],\n",
       "         [True, True, True,  ..., True, True, True],\n",
       "         ...,\n",
       "         [True, True, True,  ..., True, True, True],\n",
       "         [True, True, True,  ..., True, True, True],\n",
       "         [True, True, True,  ..., True, True, True]],\n",
       "\n",
       "        [[True, True, True,  ..., True, True, True],\n",
       "         [True, True, True,  ..., True, True, True],\n",
       "         [True, True, True,  ..., True, True, True],\n",
       "         ...,\n",
       "         [True, True, True,  ..., True, True, True],\n",
       "         [True, True, True,  ..., True, True, True],\n",
       "         [True, True, True,  ..., True, True, True]]])"
      ]
     },
     "execution_count": 72,
     "metadata": {},
     "output_type": "execute_result"
    }
   ],
   "source": [
    "(mask == 0)"
   ]
  },
  {
   "cell_type": "code",
   "execution_count": 211,
   "metadata": {
    "collapsed": true
   },
   "outputs": [],
   "source": [
    "mask = gt_masks[0]\n",
    "w_c = torch.empty(mask.shape)\n",
    "frac0 = torch.mean((mask == 0).float())      # background\n",
    "frac1 = torch.mean((mask == 1).float())      # instance"
   ]
  },
  {
   "cell_type": "code",
   "execution_count": 212,
   "metadata": {},
   "outputs": [
    {
     "data": {
      "text/plain": [
       "torch.Size([4, 512, 512])"
      ]
     },
     "execution_count": 212,
     "metadata": {},
     "output_type": "execute_result"
    }
   ],
   "source": [
    "w_c[mask == 0] = 0.5 / (frac0)\n",
    "w_c[mask == 1] = 0.5 / (frac1)\n",
    "w_c.shape"
   ]
  },
  {
   "cell_type": "code",
   "execution_count": 215,
   "metadata": {
    "collapsed": true
   },
   "outputs": [],
   "source": [
    "w0=10\n",
    "sigma=5\n",
    "masks = gt_masks[0]\n",
    "weight = torch.zeros(masks.shape)\n",
    "# calculate weight for important pixels\n",
    "distances = np.array([ndimage.distance_transform_edt(m == 0) for m in masks])\n",
    "shortest_dist = np.sort(distances, axis=0)     \n",
    "# distance to the border of the nearest cell   \n",
    "d1 = shortest_dist[0]\n",
    "# distance to the border of the second nearest cell\n",
    "d2 = shortest_dist[1] if len(shortest_dist) > 1 else np.zeros(d1.shape)\n",
    "w_b = np.exp(-((d1 + d2) ** 2 / (2 * (sigma ** 2)))).astype(np.float32)\n",
    "# w_c = getweightmap(masks)\n",
    "w = w_c +  torch.from_numpy(w_b).mul(w0)\n",
    "# min = np.min(w[np.where(w>0)])\n",
    "# weight = (merged_mask == 1) * (w-min)\n",
    "weight = (masks == 1).float() * w"
   ]
  },
  {
   "cell_type": "code",
   "execution_count": 217,
   "metadata": {},
   "outputs": [
    {
     "data": {
      "text/plain": [
       "tensor([[0., 0., 0.,  ..., 0., 0., 0.],\n",
       "        [0., 0., 0.,  ..., 0., 0., 0.],\n",
       "        [0., 0., 0.,  ..., 0., 0., 0.],\n",
       "        ...,\n",
       "        [0., 0., 0.,  ..., 0., 0., 0.],\n",
       "        [0., 0., 0.,  ..., 0., 0., 0.],\n",
       "        [0., 0., 0.,  ..., 0., 0., 0.]])"
      ]
     },
     "execution_count": 217,
     "metadata": {},
     "output_type": "execute_result"
    }
   ],
   "source": [
    "torch.from_numpy(w_b).mul(w0)"
   ]
  },
  {
   "cell_type": "code",
   "execution_count": 196,
   "metadata": {},
   "outputs": [
    {
     "data": {
      "text/plain": [
       "array([0.0000000e+00, 1.4012985e-45, 2.8025969e-45, ..., 1.6275797e-26,\n",
       "       1.6277223e-26, 1.6277724e-26], dtype=float32)"
      ]
     },
     "execution_count": 196,
     "metadata": {},
     "output_type": "execute_result"
    }
   ],
   "source": [
    "np.unique(w_b)"
   ]
  },
  {
   "cell_type": "code",
   "execution_count": 200,
   "metadata": {},
   "outputs": [
    {
     "data": {
      "text/plain": [
       "array([ 0.50693464, 36.551033  ], dtype=float32)"
      ]
     },
     "execution_count": 200,
     "metadata": {},
     "output_type": "execute_result"
    }
   ],
   "source": [
    "np.unique(w)"
   ]
  },
  {
   "cell_type": "code",
   "execution_count": 202,
   "metadata": {},
   "outputs": [
    {
     "data": {
      "text/plain": [
       "array([ 0.      , 36.551033], dtype=float32)"
      ]
     },
     "execution_count": 202,
     "metadata": {},
     "output_type": "execute_result"
    }
   ],
   "source": [
    "np.unique(weight)"
   ]
  },
  {
   "cell_type": "code",
   "execution_count": 204,
   "metadata": {},
   "outputs": [
    {
     "data": {
      "text/plain": [
       "torch.Size([512, 512])"
      ]
     },
     "execution_count": 204,
     "metadata": {},
     "output_type": "execute_result"
    }
   ],
   "source": [
    "torch.from_numpy(w_b).shape"
   ]
  },
  {
   "cell_type": "code",
   "execution_count": 180,
   "metadata": {},
   "outputs": [
    {
     "data": {
      "image/png": "[encoded data removed]",
      "text/plain": [
       "<Figure size 432x288 with 1 Axes>"
      ]
     },
     "metadata": {
      "needs_background": "light"
     },
     "output_type": "display_data"
    }
   ],
   "source": [
    "import matplotlib.pyplot as plt\n",
    "plt.imshow(weight[0])\n",
    "plt.show()"
   ]
  },
  {
   "cell_type": "code",
   "execution_count": 312,
   "metadata": {
    "collapsed": true
   },
   "outputs": [],
   "source": [
    "def getweightmap(mask):\n",
    "#     assert mask.size > 0\n",
    "    w_c = np.empty(mask.shape)\n",
    "    frac0 = torch.mean((mask == 0).float())      # background\n",
    "    frac1 = torch.mean((mask == 1).float())        # instance\n",
    "    #     assert frac0 > 0\n",
    "    #     assert frac1 > 0\n",
    "    # Calculate weight map\n",
    "    w_c[mask == 0] = 0.5 / (frac0)\n",
    "    w_c[mask == 1] = 0.5 / (frac1)\n",
    "    return w_c\n",
    "\n",
    "def getunetweightmap(masks, w0=10, sigma=100):\n",
    "    weight_f = []\n",
    "    for i in np.arange(len(gt_masks)):\n",
    "        masks = gt_masks[i]\n",
    "        merged_mask = torch.sum(masks,dim=0)\n",
    "        weight = np.zeros(merged_mask.shape)\n",
    "        # calculate weight for important pixels\n",
    "        distances = np.array([ndimage.distance_transform_edt(m == 0) for m in masks])\n",
    "        shortest_dist = np.sort(distances, axis=0)     \n",
    "        # distance to the border of the nearest cell   \n",
    "        d1 = shortest_dist[0]\n",
    "        # distance to the border of the second nearest cell\n",
    "        d2 = shortest_dist[1] if len(shortest_dist) > 1 else np.zeros(d1.shape)\n",
    "        w_b = np.exp(-((d1 + d2) ** 2 / (2 * (sigma ** 2))))\n",
    "        w_c = getweightmap(merged_mask)\n",
    "        w = w_c +  (w0 * w_b)\n",
    "        # min = np.min(w[np.where(w>0)])\n",
    "        # weight = (merged_mask == 1) * (w-min)\n",
    "        weight = (merged_mask == 1).float().mul(torch.from_numpy(w).float())\n",
    "        # weight = w\n",
    "       \n",
    "        weight_f.append(weight)\n",
    "    return weight"
   ]
  },
  {
   "cell_type": "code",
   "execution_count": 265,
   "metadata": {
    "collapsed": true
   },
   "outputs": [],
   "source": [
    "mask = torch.sum(masks,dim=0)"
   ]
  },
  {
   "cell_type": "code",
   "execution_count": 280,
   "metadata": {
    "collapsed": true
   },
   "outputs": [],
   "source": [
    "masks = gt_masks[0]\n",
    "mask = torch.sum(masks,dim=0)\n",
    "w_c = np.empty(mask.shape)\n",
    "frac0 = torch.mean((mask == 0).float())      # background\n",
    "frac1 = torch.mean((mask == 1).float())        # instance\n",
    "#     assert frac0 > 0\n",
    "#     assert frac1 > 0\n",
    "# Calculate weight map\n",
    "w_c[mask == 0] = 0.5 / (frac0)\n",
    "w_c[mask == 1] = 0.5 / (frac1)\n",
    "# return w_c"
   ]
  },
  {
   "cell_type": "code",
   "execution_count": 328,
   "metadata": {
    "collapsed": true
   },
   "outputs": [],
   "source": [
    "weight_f = []\n",
    "for i in np.arange(len(gt_masks)):\n",
    "    masks = gt_masks[i]\n",
    "    merged_mask = torch.sum(masks,dim=0)\n",
    "    weight = np.zeros(merged_mask.shape)\n",
    "    # calculate weight for important pixels\n",
    "    distances = np.array([ndimage.distance_transform_edt(m == 0) for m in masks])\n",
    "    shortest_dist = np.sort(distances, axis=0)     \n",
    "    # distance to the border of the nearest cell   \n",
    "    d1 = shortest_dist[0]\n",
    "    # distance to the border of the second nearest cell\n",
    "    d2 = shortest_dist[1] if len(shortest_dist) > 1 else np.zeros(d1.shape)\n",
    "    w_b = np.exp(-((d1 + d2) ** 2 / (2 * (sigma ** 2))))\n",
    "    w_c = getweightmap(merged_mask)\n",
    "    w = w_c +  (w0 * w_b)\n",
    "    # min = np.min(w[np.where(w>0)])\n",
    "    # weight = (merged_mask == 1) * (w-min)\n",
    "    weight = (merged_mask == 1).float().mul(torch.from_numpy(w).float())\n",
    "    # weight = w\n",
    "    # return weight\n",
    "    weight2=weight.unsqueeze(0)\n",
    "    weight3=torch.cat((weight2,weight2),dim=0)\n",
    "    weight4=torch.cat((weight3,weight2),dim=0)\n",
    "    weight5=torch.cat((weight4,weight2),dim=0)\n",
    "    weight_f.append(weight5)"
   ]
  },
  {
   "cell_type": "code",
   "execution_count": 329,
   "metadata": {},
   "outputs": [
    {
     "data": {
      "text/plain": [
       "2"
      ]
     },
     "execution_count": 329,
     "metadata": {},
     "output_type": "execute_result"
    }
   ],
   "source": [
    "len(weight_f)"
   ]
  },
  {
   "cell_type": "code",
   "execution_count": 331,
   "metadata": {},
   "outputs": [
    {
     "data": {
      "text/plain": [
       "torch.Size([4, 512, 512])"
      ]
     },
     "execution_count": 331,
     "metadata": {},
     "output_type": "execute_result"
    }
   ],
   "source": [
    "weight_f[1].shape"
   ]
  },
  {
   "cell_type": "code",
   "execution_count": 310,
   "metadata": {},
   "outputs": [
    {
     "data": {
      "text/plain": [
       "torch.Size([512, 512])"
      ]
     },
     "execution_count": 310,
     "metadata": {},
     "output_type": "execute_result"
    }
   ],
   "source": [
    "weight.shape"
   ]
  },
  {
   "cell_type": "code",
   "execution_count": null,
   "metadata": {
    "collapsed": true
   },
   "outputs": [],
   "source": [
    "for i in np.arange(len(gt_masks)):\n",
    "    masks = gt_masks[i]\n",
    "\n",
    "\n",
    "w0 = 10\n",
    "sigma = 100\n",
    "# def getunetweightmap(merged_mask, masks, w0=10, sigma=5):\n",
    "    # HxWxN to NxHxW\n",
    "masks = gt_masks[0]\n",
    "merged_mask = torch.sum(masks,dim=0)\n",
    "weight = np.zeros(merged_mask.shape)\n",
    "# calculate weight for important pixels\n",
    "distances = np.array([ndimage.distance_transform_edt(m == 0) for m in masks])\n",
    "shortest_dist = np.sort(distances, axis=0)     \n",
    "# distance to the border of the nearest cell   \n",
    "d1 = shortest_dist[0]\n",
    "# distance to the border of the second nearest cell\n",
    "d2 = shortest_dist[1] if len(shortest_dist) > 1 else np.zeros(d1.shape)\n",
    "w_b = np.exp(-((d1 + d2) ** 2 / (2 * (sigma ** 2))))\n",
    "w_c = getweightmap(merged_mask)\n",
    "w = w_c +  (w0 * w_b)\n",
    "# min = np.min(w[np.where(w>0)])\n",
    "# weight = (merged_mask == 1) * (w-min)\n",
    "weight = (merged_mask == 1).float().mul(torch.from_numpy(w).float())\n",
    "# weight = w\n",
    "# return weight"
   ]
  },
  {
   "cell_type": "code",
   "execution_count": 306,
   "metadata": {},
   "outputs": [
    {
     "data": {
      "text/plain": [
       "5065"
      ]
     },
     "execution_count": 306,
     "metadata": {},
     "output_type": "execute_result"
    }
   ],
   "source": [
    "len(np.unique(weight))"
   ]
  },
  {
   "cell_type": "code",
   "execution_count": 296,
   "metadata": {},
   "outputs": [
    {
     "data": {
      "text/plain": [
       "torch.Size([512, 512])"
      ]
     },
     "execution_count": 296,
     "metadata": {},
     "output_type": "execute_result"
    }
   ],
   "source": [
    "weight.shape"
   ]
  },
  {
   "cell_type": "code",
   "execution_count": 307,
   "metadata": {},
   "outputs": [
    {
     "data": {
      "image/png": "[encoded data removed]",
      "text/plain": [
       "<Figure size 432x288 with 1 Axes>"
      ]
     },
     "metadata": {
      "needs_background": "light"
     },
     "output_type": "display_data"
    }
   ],
   "source": [
    "plt.imshow(weight)\n",
    "plt.show()"
   ]
  },
  {
   "cell_type": "code",
   "execution_count": null,
   "metadata": {
    "collapsed": true
   },
   "outputs": [],
   "source": []
  },
  {
   "cell_type": "code",
   "execution_count": null,
   "metadata": {
    "collapsed": true
   },
   "outputs": [],
   "source": []
  },
  {
   "cell_type": "code",
   "execution_count": 251,
   "metadata": {
    "collapsed": true
   },
   "outputs": [],
   "source": [
    "w_b = np.exp(-((d1 + d2) ** 2 / (2 * (sigma ** 2))))"
   ]
  },
  {
   "cell_type": "code",
   "execution_count": 259,
   "metadata": {},
   "outputs": [
    {
     "data": {
      "text/plain": [
       "torch.float64"
      ]
     },
     "execution_count": 259,
     "metadata": {},
     "output_type": "execute_result"
    }
   ],
   "source": [
    "torch.from_numpy(w0 * w_b).dtype"
   ]
  },
  {
   "cell_type": "code",
   "execution_count": 290,
   "metadata": {},
   "outputs": [
    {
     "data": {
      "text/plain": [
       "array([ 0.     , 12.07258], dtype=float32)"
      ]
     },
     "execution_count": 290,
     "metadata": {},
     "output_type": "execute_result"
    }
   ],
   "source": [
    "np.unique(weight)"
   ]
  },
  {
   "cell_type": "code",
   "execution_count": 239,
   "metadata": {},
   "outputs": [
    {
     "data": {
      "text/plain": [
       "(4, 512, 512)"
      ]
     },
     "execution_count": 239,
     "metadata": {},
     "output_type": "execute_result"
    }
   ],
   "source": [
    "distances.shape"
   ]
  },
  {
   "cell_type": "code",
   "execution_count": 245,
   "metadata": {},
   "outputs": [
    {
     "data": {
      "text/plain": [
       "(512, 512)"
      ]
     },
     "execution_count": 245,
     "metadata": {},
     "output_type": "execute_result"
    }
   ],
   "source": [
    "w_b.shape"
   ]
  },
  {
   "cell_type": "code",
   "execution_count": 262,
   "metadata": {},
   "outputs": [
    {
     "data": {
      "text/plain": [
       "tensor([[[0.5052, 0.5052, 0.5052,  ..., 0.5052, 0.5052, 0.5052],\n",
       "         [0.5052, 0.5052, 0.5052,  ..., 0.5052, 0.5052, 0.5052],\n",
       "         [0.5052, 0.5052, 0.5052,  ..., 0.5052, 0.5052, 0.5052],\n",
       "         ...,\n",
       "         [0.5052, 0.5052, 0.5052,  ..., 0.5052, 0.5052, 0.5052],\n",
       "         [0.5052, 0.5052, 0.5052,  ..., 0.5052, 0.5052, 0.5052],\n",
       "         [0.5052, 0.5052, 0.5052,  ..., 0.5052, 0.5052, 0.5052]],\n",
       "\n",
       "        [[0.5052, 0.5052, 0.5052,  ..., 0.5052, 0.5052, 0.5052],\n",
       "         [0.5052, 0.5052, 0.5052,  ..., 0.5052, 0.5052, 0.5052],\n",
       "         [0.5052, 0.5052, 0.5052,  ..., 0.5052, 0.5052, 0.5052],\n",
       "         ...,\n",
       "         [0.5052, 0.5052, 0.5052,  ..., 0.5052, 0.5052, 0.5052],\n",
       "         [0.5052, 0.5052, 0.5052,  ..., 0.5052, 0.5052, 0.5052],\n",
       "         [0.5052, 0.5052, 0.5052,  ..., 0.5052, 0.5052, 0.5052]],\n",
       "\n",
       "        [[0.5052, 0.5052, 0.5052,  ..., 0.5052, 0.5052, 0.5052],\n",
       "         [0.5052, 0.5052, 0.5052,  ..., 0.5052, 0.5052, 0.5052],\n",
       "         [0.5052, 0.5052, 0.5052,  ..., 0.5052, 0.5052, 0.5052],\n",
       "         ...,\n",
       "         [0.5052, 0.5052, 0.5052,  ..., 0.5052, 0.5052, 0.5052],\n",
       "         [0.5052, 0.5052, 0.5052,  ..., 0.5052, 0.5052, 0.5052],\n",
       "         [0.5052, 0.5052, 0.5052,  ..., 0.5052, 0.5052, 0.5052]],\n",
       "\n",
       "        [[0.5052, 0.5052, 0.5052,  ..., 0.5052, 0.5052, 0.5052],\n",
       "         [0.5052, 0.5052, 0.5052,  ..., 0.5052, 0.5052, 0.5052],\n",
       "         [0.5052, 0.5052, 0.5052,  ..., 0.5052, 0.5052, 0.5052],\n",
       "         ...,\n",
       "         [0.5052, 0.5052, 0.5052,  ..., 0.5052, 0.5052, 0.5052],\n",
       "         [0.5052, 0.5052, 0.5052,  ..., 0.5052, 0.5052, 0.5052],\n",
       "         [0.5052, 0.5052, 0.5052,  ..., 0.5052, 0.5052, 0.5052]]])"
      ]
     },
     "execution_count": 262,
     "metadata": {},
     "output_type": "execute_result"
    }
   ],
   "source": [
    "w_c"
   ]
  },
  {
   "cell_type": "markdown",
   "metadata": {},
   "source": [
    "import torchvision\n",
    "from torchvision.models.detection.faster_rcnn import FastRCNNPredictor\n",
    "\n",
    "# COCO로 미리 학솝된 모델 읽기\n",
    "model = torchvision.models.detection.fasterrcnn_resnet50_fpn(pretrained=True)\n",
    "\n",
    "# 분류기를 새로운 것으로 교체하는데, num_classes는 사용자가 정의합니다\n",
    "num_classes = 2  # 1 클래스(사람) + 배경\n",
    "# 분류기에서 사용할 입력 특징의 차원 정보를 얻습니다\n",
    "in_features = model.roi_heads.box_predictor.cls_score.in_features\n",
    "# 미리 학습된 모델의 머리 부분을 새로운 것으로 교체합니다\n",
    "model.roi_heads.box_predictor = FastRCNNPredictor(in_features, num_classes)"
   ]
  },
  {
   "cell_type": "markdown",
   "metadata": {},
   "source": [
    "import torchvision\n",
    "from torchvision.models.detection import FasterRCNN\n",
    "from torchvision.models.detection.rpn import AnchorGenerator\n",
    "\n",
    "# 분류 목적으로 미리 학습된 모델을 로드하고 특징들만을 리턴하도록 합니다\n",
    "backbone = torchvision.models.mobilenet_v2(pretrained=True).features\n",
    "# Faster RCNN은 백본의 출력 채널 수를 알아야 합니다.\n",
    "# mobilenetV2의 경우 1280이므로 여기에 추가해야 합니다.\n",
    "backbone.out_channels = 1280\n",
    "\n",
    "# RPN(Region Proposal Network)이 5개의 서로 다른 크기와 3개의 다른 측면 비율(Aspect ratio)을 가진\n",
    "# 5 x 3개의 앵커를 공간 위치마다 생성하도록 합니다.\n",
    "# 각 특징 맵이 잠재적으로 다른 사이즈와 측면 비율을 가질 수 있기 때문에 Tuple[Tuple[int]] 타입을 가지도록 합니다.\n",
    "\n",
    "anchor_generator = AnchorGenerator(sizes=((32, 64, 128, 256, 512),),\n",
    "                                   aspect_ratios=((0.5, 1.0, 2.0),))\n",
    "\n",
    "# 관심 영역의 자르기 및 재할당 후 자르기 크기를 수행하는 데 사용할 피쳐 맵을 정의합니다.\n",
    "# 만약 백본이 텐서를 리턴할때, featmap_names 는 [0] 이 될 것이라고 예상합니다.\n",
    "# 일반적으로 백본은 OrderedDict[Tensor] 타입을 리턴해야 합니다.\n",
    "# 그리고 특징맵에서 사용할 featmap_names 값을 정할 수 있습니다.\n",
    "roi_pooler = torchvision.ops.MultiScaleRoIAlign(featmap_names=[0],\n",
    "                                                output_size=7,\n",
    "                                                sampling_ratio=2)\n",
    "\n",
    "# 조각들을 Faster RCNN 모델로 합칩니다.\n",
    "model = FasterRCNN(backbone,\n",
    "                   num_classes=2,\n",
    "                   rpn_anchor_generator=anchor_generator,\n",
    "                   box_roi_pool=roi_pooler)"
   ]
  },
  {
   "cell_type": "code",
   "execution_count": 4,
   "metadata": {
    "collapsed": true
   },
   "outputs": [],
   "source": [
    "import torchvision\n",
    "from torchvision.models.detection.faster_rcnn import FastRCNNPredictor\n",
    "from torchvision.models.detection.mask_rcnn import MaskRCNNPredictor\n",
    "\n",
    "\n",
    "def get_model_instance_segmentation(num_classes):\n",
    "    # COCO 에서 미리 학습된 인스턴스 분할 모델을 읽어옵니다\n",
    "    model = torchvision.models.detection.maskrcnn_resnet50_fpn(pretrained=True)\n",
    "\n",
    "    # 분류를 위한 입력 특징 차원을 얻습니다\n",
    "#     in_features = model.roi_heads.box_predictor.cls_score.in_features\n",
    "    # 미리 학습된 헤더를 새로운 것으로 바꿉니다\n",
    "#     model.roi_heads.box_predictor = FastRCNNPredictor(in_features, num_classes)\n",
    "\n",
    "    # 마스크 분류기를 위한 입력 특징들의 차원을 얻습니다\n",
    "#     in_features_mask = model.roi_heads.mask_predictor.conv5_mask.in_channels\n",
    "#     hidden_layer = 256\n",
    "    # 마스크 예측기를 새로운 것으로 바꿉니다\n",
    "#     model.roi_heads.mask_predictor = MaskRCNNPredictor(in_features_mask,\n",
    "#                                                        hidden_layer,\n",
    "#                                                        num_classes)\n",
    "#     model.roi_heads.maskrcnn_loss = maskrcnn_loss_W\n",
    "\n",
    "    return model"
   ]
  },
  {
   "cell_type": "code",
   "execution_count": 24,
   "metadata": {
    "collapsed": true
   },
   "outputs": [],
   "source": [
    "model.roi_heads??"
   ]
  },
  {
   "cell_type": "markdown",
   "metadata": {},
   "source": [
    "model = get_model_instance_segmentation(num_classes)"
   ]
  },
  {
   "cell_type": "code",
   "execution_count": 15,
   "metadata": {
    "collapsed": true
   },
   "outputs": [],
   "source": [
    "from torchvision.models.detection import mask_rcnn\n",
    "mask_rcnn??"
   ]
  },
  {
   "cell_type": "code",
   "execution_count": 6,
   "metadata": {
    "collapsed": true
   },
   "outputs": [],
   "source": [
    "model = get_model_instance_segmentation(2)"
   ]
  },
  {
   "cell_type": "code",
   "execution_count": 17,
   "metadata": {},
   "outputs": [
    {
     "name": "stdout",
     "output_type": "stream",
     "text": [
      "Object `model.maskrcnn_loss` not found.\n"
     ]
    }
   ],
   "source": [
    "model.maskrcnn_loss??"
   ]
  },
  {
   "cell_type": "code",
   "execution_count": null,
   "metadata": {
    "collapsed": true
   },
   "outputs": [],
   "source": []
  },
  {
   "cell_type": "markdown",
   "metadata": {},
   "source": [
    "from torchvision.models.detection import roi_heads\n",
    "roi_heads.maskrcnn_loss??"
   ]
  },
  {
   "cell_type": "markdown",
   "metadata": {},
   "source": [
    "import torch.nn.functional as F\n",
    "F.binary_cross_entropy_with_logits??\n",
    "# torch.binary_cross_entropy_with_logits??"
   ]
  },
  {
   "cell_type": "markdown",
   "metadata": {},
   "source": [
    "model = get_model_instance_segmentation(num_classes)"
   ]
  },
  {
   "cell_type": "markdown",
   "metadata": {},
   "source": [
    "model.roi_heads.maskrcnn_loss"
   ]
  },
  {
   "cell_type": "code",
   "execution_count": 32,
   "metadata": {
    "collapsed": true
   },
   "outputs": [],
   "source": [
    "import torch\n",
    "\n",
    "import torch.nn.functional as F\n",
    "from torch import nn\n",
    "\n",
    "from torchvision.ops import boxes as box_ops\n",
    "from torchvision.ops import misc as misc_nn_ops\n",
    "from torchvision.ops import roi_align\n",
    "\n",
    "def getweightmap(mask):\n",
    "#     assert mask.size > 0\n",
    "    w_c = np.empty(mask.shape)\n",
    "    frac0 = np.sum(mask == 0) / float(mask.size)        # background\n",
    "    frac1 = np.sum(mask == 1) / float(mask.size)        # instance\n",
    "#     assert frac0 > 0\n",
    "#     assert frac1 > 0\n",
    "    # Calculate weight map\n",
    "    w_c[mask == 0] = 0.5 / (frac0)\n",
    "    w_c[mask == 1] = 0.5 / (frac1)\n",
    "    return w_c\n",
    "\n",
    "def getunetweightmap(merged_mask, masks, w0=10, sigma=5):\n",
    "    # HxWxN to NxHxW\n",
    "    masks = masks.transpose((2, 0, 1))\n",
    "    weight = np.zeros(merged_mask.shape)\n",
    "    # calculate weight for important pixels\n",
    "    distances = np.array([ndimage.distance_transform_edt(m == 0) for m in masks])\n",
    "    shortest_dist = np.sort(distances, axis=0)     \n",
    "    # distance to the border of the nearest cell   \n",
    "    d1 = shortest_dist[0]\n",
    "    # distance to the border of the second nearest cell\n",
    "    d2 = shortest_dist[1] if len(shortest_dist) > 1 else np.zeros(d1.shape)\n",
    "    w_b = np.exp(-((d1 + d2) ** 2 / (2 * (sigma ** 2)))).astype(np.float32)\n",
    "    w_c = getweightmap(merged_mask)\n",
    "    w = w_c +  w0 * w_b\n",
    "    # min = np.min(w[np.where(w>0)])\n",
    "    # weight = (merged_mask == 1) * (w-min)\n",
    "    weight = (merged_mask == 1) * w\n",
    "    # weight = w\n",
    "    return weight\n",
    "    \n",
    "def maskrcnn_loss(mask_logits, proposals, gt_masks, gt_labels, mask_matched_idxs):\n",
    "    \"\"\"\n",
    "    Arguments:\n",
    "        proposals (list[BoxList])\n",
    "        mask_logits (Tensor)\n",
    "        targets (list[BoxList])\n",
    "\n",
    "    Return:\n",
    "        mask_loss (Tensor): scalar tensor containing the loss\n",
    "    \"\"\"\n",
    "\n",
    "    W_mask_tmp = (gt_masks[0] > 0).astype(np.float)\n",
    "    W_merged_mask = np.max(W_mask_tmp, axis=2)       \n",
    "    W_masks = getunetweightmap(W_merged_mask, W_mask_tmp, w0=10, sigma=5)\n",
    "\n",
    "    discretization_size = mask_logits.shape[-1]\n",
    "    labels = [l[idxs] for l, idxs in zip(gt_labels, mask_matched_idxs)]\n",
    "    \n",
    "    mask_targets = [\n",
    "        project_masks_on_boxes(m, p, i, discretization_size)\n",
    "        for m, p, i in zip(gt_masks, proposals, mask_matched_idxs)\n",
    "    ]\n",
    "    \n",
    "    W_targets = [\n",
    "    project_masks_on_boxes(m, p, i, discretization_size)\n",
    "    for m, p, i in zip(W_masks, proposals, mask_matched_idxs)\n",
    "    ]\n",
    "\n",
    "    labels = torch.cat(labels, dim=0)\n",
    "    \n",
    "    mask_targets = torch.cat(mask_targets, dim=0)\n",
    "    \n",
    "    W_targets = torch.cat(W_targets, dim=0)\n",
    "    \n",
    "\n",
    "    # torch.mean (in binary_cross_entropy_with_logits) doesn't\n",
    "    # accept empty tensors, so handle it separately\n",
    "    if mask_targets.numel() == 0:\n",
    "        return mask_logits.sum() * 0\n",
    "\n",
    "    mask_loss = F.binary_cross_entropy_with_logits(\n",
    "        mask_logits[torch.arange(labels.shape[0], device=labels.device), labels], mask_targets\n",
    "        ,pos_weight=W_targets\n",
    "    )\n",
    "    return mask_loss"
   ]
  },
  {
   "cell_type": "markdown",
   "metadata": {},
   "source": [
    "model.roi_heads.maskrcnn_loss = maskrcnn_loss2"
   ]
  },
  {
   "cell_type": "code",
   "execution_count": null,
   "metadata": {
    "collapsed": true
   },
   "outputs": [],
   "source": [
    "model = torchvision.models.detection.fasterrcnn_resnet50_fpn(pretrained=True)\n",
    "dataset = PennFudanDataset(get_transform(train=True))\n",
    "data_loader = torch.utils.data.DataLoader(\n",
    " dataset, batch_size=2, shuffle=True, num_workers=4,\n",
    " collate_fn=utils.collate_fn)\n",
    "# 학습 시\n",
    "images,targets = next(iter(data_loader))\n",
    "images = list(image for image in images)\n",
    "targets = [{k: v for k, v in t.items()} for t in targets]\n",
    "output = model(images,targets)   # Returns losses and detections\n",
    "# 추론 시\n",
    "model.eval()\n",
    "x = [torch.rand(3, 300, 400), torch.rand(3, 500, 400)]\n",
    "predictions = model(x)           # Returns predictions"
   ]
  },
  {
   "cell_type": "markdown",
   "metadata": {},
   "source": [
    "output = model(images,targets) "
   ]
  },
  {
   "cell_type": "markdown",
   "metadata": {},
   "source": [
    "model??"
   ]
  },
  {
   "cell_type": "markdown",
   "metadata": {
    "scrolled": false
   },
   "source": [
    "output??"
   ]
  },
  {
   "cell_type": "code",
   "execution_count": null,
   "metadata": {
    "collapsed": true
   },
   "outputs": [],
   "source": [
    "model.eval()\n",
    "predictions = model(images) "
   ]
  },
  {
   "cell_type": "code",
   "execution_count": 7,
   "metadata": {
    "collapsed": true
   },
   "outputs": [],
   "source": [
    "import transforms as T\n",
    "\n",
    "def get_transform(train):\n",
    "    transforms = []\n",
    "    transforms.append(T.ToTensor())\n",
    "    if train:\n",
    "        # (역자주: 학습시 50% 확률로 학습 영상을 좌우 반전 변환합니다)\n",
    "        transforms.append(T.RandomHorizontalFlip(0.5))\n",
    "    return T.Compose(transforms)"
   ]
  },
  {
   "cell_type": "markdown",
   "metadata": {},
   "source": [
    "from engine import train_one_epoch\n",
    "# train_one_epoch??"
   ]
  },
  {
   "cell_type": "code",
   "execution_count": 13,
   "metadata": {
    "collapsed": true
   },
   "outputs": [],
   "source": [
    "model.roi_heads.maskrcnn_loss = maskrcnn_loss_W"
   ]
  },
  {
   "cell_type": "code",
   "execution_count": 33,
   "metadata": {
    "scrolled": true
   },
   "outputs": [
    {
     "name": "stdout",
     "output_type": "stream",
     "text": [
      "Epoch: [0]  [0/3]  eta: 0:00:02  lr: 0.002502  loss: 0.0898 (0.0898)  loss_classifier: 0.0212 (0.0212)  loss_box_reg: 0.0110 (0.0110)  loss_mask: 0.0506 (0.0506)  loss_objectness: 0.0010 (0.0010)  loss_rpn_box_reg: 0.0061 (0.0061)  time: 0.7395  data: 0.2253  max mem: 2908\n",
      "Epoch: [0]  [2/3]  eta: 0:00:00  lr: 0.005000  loss: 0.0898 (0.0962)  loss_classifier: 0.0212 (0.0275)  loss_box_reg: 0.0129 (0.0125)  loss_mask: 0.0506 (0.0501)  loss_objectness: 0.0005 (0.0006)  loss_rpn_box_reg: 0.0054 (0.0055)  time: 0.5104  data: 0.0756  max mem: 3012\n",
      "Epoch: [0] Total time: 0:00:01 (0.5184 s / it)\n",
      "creating index...\n",
      "index created!\n",
      "Test:  [0/5]  eta: 0:00:00  model_time: 0.0882 (0.0882)  evaluator_time: 0.0053 (0.0053)  time: 0.1867  data: 0.0905  max mem: 3012\n",
      "Test:  [4/5]  eta: 0:00:00  model_time: 0.0890 (0.0896)  evaluator_time: 0.0047 (0.0048)  time: 0.1156  data: 0.0197  max mem: 3012\n",
      "Test: Total time: 0:00:00 (0.1202 s / it)\n",
      "Averaged stats: model_time: 0.0890 (0.0896)  evaluator_time: 0.0047 (0.0048)\n",
      "Accumulating evaluation results...\n",
      "DONE (t=0.00s).\n",
      "Accumulating evaluation results...\n",
      "DONE (t=0.00s).\n",
      "IoU metric: bbox\n",
      " Average Precision  (AP) @[ IoU=0.50:0.95 | area=   all | maxDets=100 ] = 0.837\n",
      " Average Precision  (AP) @[ IoU=0.50      | area=   all | maxDets=100 ] = 0.904\n",
      " Average Precision  (AP) @[ IoU=0.75      | area=   all | maxDets=100 ] = 0.904\n",
      " Average Precision  (AP) @[ IoU=0.50:0.95 | area= small | maxDets=100 ] = -1.000\n",
      " Average Precision  (AP) @[ IoU=0.50:0.95 | area=medium | maxDets=100 ] = 0.828\n",
      " Average Precision  (AP) @[ IoU=0.50:0.95 | area= large | maxDets=100 ] = 0.950\n",
      " Average Recall     (AR) @[ IoU=0.50:0.95 | area=   all | maxDets=  1 ] = 0.185\n",
      " Average Recall     (AR) @[ IoU=0.50:0.95 | area=   all | maxDets= 10 ] = 0.900\n",
      " Average Recall     (AR) @[ IoU=0.50:0.95 | area=   all | maxDets=100 ] = 0.900\n",
      " Average Recall     (AR) @[ IoU=0.50:0.95 | area= small | maxDets=100 ] = -1.000\n",
      " Average Recall     (AR) @[ IoU=0.50:0.95 | area=medium | maxDets=100 ] = 0.894\n",
      " Average Recall     (AR) @[ IoU=0.50:0.95 | area= large | maxDets=100 ] = 0.950\n",
      "IoU metric: segm\n",
      " Average Precision  (AP) @[ IoU=0.50:0.95 | area=   all | maxDets=100 ] = 0.877\n",
      " Average Precision  (AP) @[ IoU=0.50      | area=   all | maxDets=100 ] = 0.904\n",
      " Average Precision  (AP) @[ IoU=0.75      | area=   all | maxDets=100 ] = 0.904\n",
      " Average Precision  (AP) @[ IoU=0.50:0.95 | area= small | maxDets=100 ] = -1.000\n",
      " Average Precision  (AP) @[ IoU=0.50:0.95 | area=medium | maxDets=100 ] = 0.866\n",
      " Average Precision  (AP) @[ IoU=0.50:0.95 | area= large | maxDets=100 ] = 1.000\n",
      " Average Recall     (AR) @[ IoU=0.50:0.95 | area=   all | maxDets=  1 ] = 0.195\n",
      " Average Recall     (AR) @[ IoU=0.50:0.95 | area=   all | maxDets= 10 ] = 0.930\n",
      " Average Recall     (AR) @[ IoU=0.50:0.95 | area=   all | maxDets=100 ] = 0.930\n",
      " Average Recall     (AR) @[ IoU=0.50:0.95 | area= small | maxDets=100 ] = -1.000\n",
      " Average Recall     (AR) @[ IoU=0.50:0.95 | area=medium | maxDets=100 ] = 0.922\n",
      " Average Recall     (AR) @[ IoU=0.50:0.95 | area= large | maxDets=100 ] = 1.000\n",
      "Epoch: [1]  [0/3]  eta: 0:00:02  lr: 0.005000  loss: 0.0967 (0.0967)  loss_classifier: 0.0201 (0.0201)  loss_box_reg: 0.0175 (0.0175)  loss_mask: 0.0518 (0.0518)  loss_objectness: 0.0015 (0.0015)  loss_rpn_box_reg: 0.0058 (0.0058)  time: 0.7114  data: 0.2166  max mem: 3012\n",
      "Epoch: [1]  [2/3]  eta: 0:00:00  lr: 0.005000  loss: 0.0967 (0.0963)  loss_classifier: 0.0280 (0.0258)  loss_box_reg: 0.0135 (0.0144)  loss_mask: 0.0507 (0.0502)  loss_objectness: 0.0003 (0.0006)  loss_rpn_box_reg: 0.0058 (0.0053)  time: 0.5374  data: 0.0727  max mem: 3025\n",
      "Epoch: [1] Total time: 0:00:01 (0.5491 s / it)\n",
      "creating index...\n",
      "index created!\n",
      "Test:  [0/5]  eta: 0:00:01  model_time: 0.1045 (0.1045)  evaluator_time: 0.0062 (0.0062)  time: 0.2025  data: 0.0893  max mem: 3025\n",
      "Test:  [4/5]  eta: 0:00:00  model_time: 0.1045 (0.1026)  evaluator_time: 0.0052 (0.0055)  time: 0.1302  data: 0.0199  max mem: 3025\n",
      "Test: Total time: 0:00:00 (0.1360 s / it)\n",
      "Averaged stats: model_time: 0.1045 (0.1026)  evaluator_time: 0.0052 (0.0055)\n",
      "Accumulating evaluation results...\n",
      "DONE (t=0.01s).\n",
      "Accumulating evaluation results...\n",
      "DONE (t=0.01s).\n",
      "IoU metric: bbox\n",
      " Average Precision  (AP) @[ IoU=0.50:0.95 | area=   all | maxDets=100 ] = 0.838\n",
      " Average Precision  (AP) @[ IoU=0.50      | area=   all | maxDets=100 ] = 0.901\n",
      " Average Precision  (AP) @[ IoU=0.75      | area=   all | maxDets=100 ] = 0.901\n",
      " Average Precision  (AP) @[ IoU=0.50:0.95 | area= small | maxDets=100 ] = -1.000\n",
      " Average Precision  (AP) @[ IoU=0.50:0.95 | area=medium | maxDets=100 ] = 0.826\n",
      " Average Precision  (AP) @[ IoU=0.50:0.95 | area= large | maxDets=100 ] = 1.000\n",
      " Average Recall     (AR) @[ IoU=0.50:0.95 | area=   all | maxDets=  1 ] = 0.190\n",
      " Average Recall     (AR) @[ IoU=0.50:0.95 | area=   all | maxDets= 10 ] = 0.905\n",
      " Average Recall     (AR) @[ IoU=0.50:0.95 | area=   all | maxDets=100 ] = 0.905\n",
      " Average Recall     (AR) @[ IoU=0.50:0.95 | area= small | maxDets=100 ] = -1.000\n",
      " Average Recall     (AR) @[ IoU=0.50:0.95 | area=medium | maxDets=100 ] = 0.894\n",
      " Average Recall     (AR) @[ IoU=0.50:0.95 | area= large | maxDets=100 ] = 1.000\n",
      "IoU metric: segm\n",
      " Average Precision  (AP) @[ IoU=0.50:0.95 | area=   all | maxDets=100 ] = 0.894\n",
      " Average Precision  (AP) @[ IoU=0.50      | area=   all | maxDets=100 ] = 0.901\n",
      " Average Precision  (AP) @[ IoU=0.75      | area=   all | maxDets=100 ] = 0.901\n",
      " Average Precision  (AP) @[ IoU=0.50:0.95 | area= small | maxDets=100 ] = -1.000\n",
      " Average Precision  (AP) @[ IoU=0.50:0.95 | area=medium | maxDets=100 ] = 0.885\n",
      " Average Precision  (AP) @[ IoU=0.50:0.95 | area= large | maxDets=100 ] = 1.000\n",
      " Average Recall     (AR) @[ IoU=0.50:0.95 | area=   all | maxDets=  1 ] = 0.200\n",
      " Average Recall     (AR) @[ IoU=0.50:0.95 | area=   all | maxDets= 10 ] = 0.945\n",
      " Average Recall     (AR) @[ IoU=0.50:0.95 | area=   all | maxDets=100 ] = 0.945\n",
      " Average Recall     (AR) @[ IoU=0.50:0.95 | area= small | maxDets=100 ] = -1.000\n",
      " Average Recall     (AR) @[ IoU=0.50:0.95 | area=medium | maxDets=100 ] = 0.939\n",
      " Average Recall     (AR) @[ IoU=0.50:0.95 | area= large | maxDets=100 ] = 1.000\n",
      "Epoch: [2]  [0/3]  eta: 0:00:02  lr: 0.005000  loss: 0.0896 (0.0896)  loss_classifier: 0.0230 (0.0230)  loss_box_reg: 0.0091 (0.0091)  loss_mask: 0.0505 (0.0505)  loss_objectness: 0.0002 (0.0002)  loss_rpn_box_reg: 0.0067 (0.0067)  time: 0.7632  data: 0.1960  max mem: 3025\n",
      "Epoch: [2]  [2/3]  eta: 0:00:00  lr: 0.005000  loss: 0.0953 (0.0964)  loss_classifier: 0.0230 (0.0255)  loss_box_reg: 0.0132 (0.0122)  loss_mask: 0.0505 (0.0500)  loss_objectness: 0.0002 (0.0020)  loss_rpn_box_reg: 0.0067 (0.0067)  time: 0.5193  data: 0.0670  max mem: 3025\n",
      "Epoch: [2] Total time: 0:00:01 (0.5275 s / it)\n",
      "creating index...\n",
      "index created!\n",
      "Test:  [0/5]  eta: 0:00:00  model_time: 0.0885 (0.0885)  evaluator_time: 0.0054 (0.0054)  time: 0.1974  data: 0.1020  max mem: 3025\n",
      "Test:  [4/5]  eta: 0:00:00  model_time: 0.0902 (0.0909)  evaluator_time: 0.0053 (0.0051)  time: 0.1184  data: 0.0210  max mem: 3025\n",
      "Test: Total time: 0:00:00 (0.1230 s / it)\n",
      "Averaged stats: model_time: 0.0902 (0.0909)  evaluator_time: 0.0053 (0.0051)\n",
      "Accumulating evaluation results...\n",
      "DONE (t=0.00s).\n",
      "Accumulating evaluation results...\n",
      "DONE (t=0.00s).\n",
      "IoU metric: bbox\n",
      " Average Precision  (AP) @[ IoU=0.50:0.95 | area=   all | maxDets=100 ] = 0.808\n",
      " Average Precision  (AP) @[ IoU=0.50      | area=   all | maxDets=100 ] = 0.899\n",
      " Average Precision  (AP) @[ IoU=0.75      | area=   all | maxDets=100 ] = 0.899\n",
      " Average Precision  (AP) @[ IoU=0.50:0.95 | area= small | maxDets=100 ] = -1.000\n",
      " Average Precision  (AP) @[ IoU=0.50:0.95 | area=medium | maxDets=100 ] = 0.801\n",
      " Average Precision  (AP) @[ IoU=0.50:0.95 | area= large | maxDets=100 ] = 0.950\n",
      " Average Recall     (AR) @[ IoU=0.50:0.95 | area=   all | maxDets=  1 ] = 0.180\n",
      " Average Recall     (AR) @[ IoU=0.50:0.95 | area=   all | maxDets= 10 ] = 0.875\n",
      " Average Recall     (AR) @[ IoU=0.50:0.95 | area=   all | maxDets=100 ] = 0.875\n",
      " Average Recall     (AR) @[ IoU=0.50:0.95 | area= small | maxDets=100 ] = -1.000\n",
      " Average Recall     (AR) @[ IoU=0.50:0.95 | area=medium | maxDets=100 ] = 0.867\n",
      " Average Recall     (AR) @[ IoU=0.50:0.95 | area= large | maxDets=100 ] = 0.950\n",
      "IoU metric: segm\n",
      " Average Precision  (AP) @[ IoU=0.50:0.95 | area=   all | maxDets=100 ] = 0.867\n",
      " Average Precision  (AP) @[ IoU=0.50      | area=   all | maxDets=100 ] = 0.899\n",
      " Average Precision  (AP) @[ IoU=0.75      | area=   all | maxDets=100 ] = 0.899\n",
      " Average Precision  (AP) @[ IoU=0.50:0.95 | area= small | maxDets=100 ] = -1.000\n",
      " Average Precision  (AP) @[ IoU=0.50:0.95 | area=medium | maxDets=100 ] = 0.859\n",
      " Average Precision  (AP) @[ IoU=0.50:0.95 | area= large | maxDets=100 ] = 1.000\n",
      " Average Recall     (AR) @[ IoU=0.50:0.95 | area=   all | maxDets=  1 ] = 0.195\n",
      " Average Recall     (AR) @[ IoU=0.50:0.95 | area=   all | maxDets= 10 ] = 0.930\n",
      " Average Recall     (AR) @[ IoU=0.50:0.95 | area=   all | maxDets=100 ] = 0.930\n",
      " Average Recall     (AR) @[ IoU=0.50:0.95 | area= small | maxDets=100 ] = -1.000\n",
      " Average Recall     (AR) @[ IoU=0.50:0.95 | area=medium | maxDets=100 ] = 0.922\n",
      " Average Recall     (AR) @[ IoU=0.50:0.95 | area= large | maxDets=100 ] = 1.000\n"
     ]
    },
    {
     "name": "stdout",
     "output_type": "stream",
     "text": [
      "Epoch: [3]  [0/3]  eta: 0:00:01  lr: 0.000500  loss: 0.0899 (0.0899)  loss_classifier: 0.0236 (0.0236)  loss_box_reg: 0.0104 (0.0104)  loss_mask: 0.0503 (0.0503)  loss_objectness: 0.0001 (0.0001)  loss_rpn_box_reg: 0.0055 (0.0055)  time: 0.6349  data: 0.1194  max mem: 3025\n",
      "Epoch: [3]  [2/3]  eta: 0:00:00  lr: 0.000500  loss: 0.0921 (0.0936)  loss_classifier: 0.0236 (0.0231)  loss_box_reg: 0.0127 (0.0140)  loss_mask: 0.0503 (0.0495)  loss_objectness: 0.0003 (0.0004)  loss_rpn_box_reg: 0.0060 (0.0065)  time: 0.4725  data: 0.0419  max mem: 3025\n",
      "Epoch: [3] Total time: 0:00:01 (0.4804 s / it)\n",
      "creating index...\n",
      "index created!\n",
      "Test:  [0/5]  eta: 0:00:00  model_time: 0.0929 (0.0929)  evaluator_time: 0.0056 (0.0056)  time: 0.1912  data: 0.0904  max mem: 3025\n",
      "Test:  [4/5]  eta: 0:00:00  model_time: 0.0919 (0.0918)  evaluator_time: 0.0049 (0.0051)  time: 0.1181  data: 0.0196  max mem: 3025\n",
      "Test: Total time: 0:00:00 (0.1231 s / it)\n",
      "Averaged stats: model_time: 0.0919 (0.0918)  evaluator_time: 0.0049 (0.0051)\n",
      "Accumulating evaluation results...\n",
      "DONE (t=0.00s).\n",
      "Accumulating evaluation results...\n",
      "DONE (t=0.00s).\n",
      "IoU metric: bbox\n",
      " Average Precision  (AP) @[ IoU=0.50:0.95 | area=   all | maxDets=100 ] = 0.832\n",
      " Average Precision  (AP) @[ IoU=0.50      | area=   all | maxDets=100 ] = 0.899\n",
      " Average Precision  (AP) @[ IoU=0.75      | area=   all | maxDets=100 ] = 0.899\n",
      " Average Precision  (AP) @[ IoU=0.50:0.95 | area= small | maxDets=100 ] = -1.000\n",
      " Average Precision  (AP) @[ IoU=0.50:0.95 | area=medium | maxDets=100 ] = 0.820\n",
      " Average Precision  (AP) @[ IoU=0.50:0.95 | area= large | maxDets=100 ] = 1.000\n",
      " Average Recall     (AR) @[ IoU=0.50:0.95 | area=   all | maxDets=  1 ] = 0.185\n",
      " Average Recall     (AR) @[ IoU=0.50:0.95 | area=   all | maxDets= 10 ] = 0.900\n",
      " Average Recall     (AR) @[ IoU=0.50:0.95 | area=   all | maxDets=100 ] = 0.900\n",
      " Average Recall     (AR) @[ IoU=0.50:0.95 | area= small | maxDets=100 ] = -1.000\n",
      " Average Recall     (AR) @[ IoU=0.50:0.95 | area=medium | maxDets=100 ] = 0.889\n",
      " Average Recall     (AR) @[ IoU=0.50:0.95 | area= large | maxDets=100 ] = 1.000\n",
      "IoU metric: segm\n",
      " Average Precision  (AP) @[ IoU=0.50:0.95 | area=   all | maxDets=100 ] = 0.868\n",
      " Average Precision  (AP) @[ IoU=0.50      | area=   all | maxDets=100 ] = 0.899\n",
      " Average Precision  (AP) @[ IoU=0.75      | area=   all | maxDets=100 ] = 0.899\n",
      " Average Precision  (AP) @[ IoU=0.50:0.95 | area= small | maxDets=100 ] = -1.000\n",
      " Average Precision  (AP) @[ IoU=0.50:0.95 | area=medium | maxDets=100 ] = 0.860\n",
      " Average Precision  (AP) @[ IoU=0.50:0.95 | area= large | maxDets=100 ] = 1.000\n",
      " Average Recall     (AR) @[ IoU=0.50:0.95 | area=   all | maxDets=  1 ] = 0.195\n",
      " Average Recall     (AR) @[ IoU=0.50:0.95 | area=   all | maxDets= 10 ] = 0.930\n",
      " Average Recall     (AR) @[ IoU=0.50:0.95 | area=   all | maxDets=100 ] = 0.930\n",
      " Average Recall     (AR) @[ IoU=0.50:0.95 | area= small | maxDets=100 ] = -1.000\n",
      " Average Recall     (AR) @[ IoU=0.50:0.95 | area=medium | maxDets=100 ] = 0.922\n",
      " Average Recall     (AR) @[ IoU=0.50:0.95 | area= large | maxDets=100 ] = 1.000\n",
      "Epoch: [4]  [0/3]  eta: 0:00:01  lr: 0.000500  loss: 0.0920 (0.0920)  loss_classifier: 0.0281 (0.0281)  loss_box_reg: 0.0093 (0.0093)  loss_mask: 0.0495 (0.0495)  loss_objectness: 0.0007 (0.0007)  loss_rpn_box_reg: 0.0043 (0.0043)  time: 0.6408  data: 0.1276  max mem: 3025\n",
      "Epoch: [4]  [2/3]  eta: 0:00:00  lr: 0.000500  loss: 0.0906 (0.0891)  loss_classifier: 0.0252 (0.0242)  loss_box_reg: 0.0093 (0.0107)  loss_mask: 0.0495 (0.0484)  loss_objectness: 0.0002 (0.0004)  loss_rpn_box_reg: 0.0047 (0.0055)  time: 0.4744  data: 0.0438  max mem: 3025\n",
      "Epoch: [4] Total time: 0:00:01 (0.4826 s / it)\n",
      "creating index...\n",
      "index created!\n",
      "Test:  [0/5]  eta: 0:00:00  model_time: 0.0892 (0.0892)  evaluator_time: 0.0057 (0.0057)  time: 0.1900  data: 0.0930  max mem: 3025\n",
      "Test:  [4/5]  eta: 0:00:00  model_time: 0.0899 (0.0899)  evaluator_time: 0.0048 (0.0050)  time: 0.1164  data: 0.0200  max mem: 3025\n",
      "Test: Total time: 0:00:00 (0.1211 s / it)\n",
      "Averaged stats: model_time: 0.0899 (0.0899)  evaluator_time: 0.0048 (0.0050)\n",
      "Accumulating evaluation results...\n",
      "DONE (t=0.00s).\n",
      "Accumulating evaluation results...\n",
      "DONE (t=0.00s).\n",
      "IoU metric: bbox\n",
      " Average Precision  (AP) @[ IoU=0.50:0.95 | area=   all | maxDets=100 ] = 0.845\n",
      " Average Precision  (AP) @[ IoU=0.50      | area=   all | maxDets=100 ] = 0.894\n",
      " Average Precision  (AP) @[ IoU=0.75      | area=   all | maxDets=100 ] = 0.894\n",
      " Average Precision  (AP) @[ IoU=0.50:0.95 | area= small | maxDets=100 ] = -1.000\n",
      " Average Precision  (AP) @[ IoU=0.50:0.95 | area=medium | maxDets=100 ] = 0.833\n",
      " Average Precision  (AP) @[ IoU=0.50:0.95 | area= large | maxDets=100 ] = 1.000\n",
      " Average Recall     (AR) @[ IoU=0.50:0.95 | area=   all | maxDets=  1 ] = 0.200\n",
      " Average Recall     (AR) @[ IoU=0.50:0.95 | area=   all | maxDets= 10 ] = 0.910\n",
      " Average Recall     (AR) @[ IoU=0.50:0.95 | area=   all | maxDets=100 ] = 0.910\n",
      " Average Recall     (AR) @[ IoU=0.50:0.95 | area= small | maxDets=100 ] = -1.000\n",
      " Average Recall     (AR) @[ IoU=0.50:0.95 | area=medium | maxDets=100 ] = 0.900\n",
      " Average Recall     (AR) @[ IoU=0.50:0.95 | area= large | maxDets=100 ] = 1.000\n",
      "IoU metric: segm\n",
      " Average Precision  (AP) @[ IoU=0.50:0.95 | area=   all | maxDets=100 ] = 0.879\n",
      " Average Precision  (AP) @[ IoU=0.50      | area=   all | maxDets=100 ] = 0.894\n",
      " Average Precision  (AP) @[ IoU=0.75      | area=   all | maxDets=100 ] = 0.894\n",
      " Average Precision  (AP) @[ IoU=0.50:0.95 | area= small | maxDets=100 ] = -1.000\n",
      " Average Precision  (AP) @[ IoU=0.50:0.95 | area=medium | maxDets=100 ] = 0.871\n",
      " Average Precision  (AP) @[ IoU=0.50:0.95 | area= large | maxDets=100 ] = 1.000\n",
      " Average Recall     (AR) @[ IoU=0.50:0.95 | area=   all | maxDets=  1 ] = 0.200\n",
      " Average Recall     (AR) @[ IoU=0.50:0.95 | area=   all | maxDets= 10 ] = 0.940\n",
      " Average Recall     (AR) @[ IoU=0.50:0.95 | area=   all | maxDets=100 ] = 0.940\n",
      " Average Recall     (AR) @[ IoU=0.50:0.95 | area= small | maxDets=100 ] = -1.000\n",
      " Average Recall     (AR) @[ IoU=0.50:0.95 | area=medium | maxDets=100 ] = 0.933\n",
      " Average Recall     (AR) @[ IoU=0.50:0.95 | area= large | maxDets=100 ] = 1.000\n",
      "Epoch: [5]  [0/3]  eta: 0:00:02  lr: 0.000500  loss: 0.0981 (0.0981)  loss_classifier: 0.0318 (0.0318)  loss_box_reg: 0.0147 (0.0147)  loss_mask: 0.0468 (0.0468)  loss_objectness: 0.0002 (0.0002)  loss_rpn_box_reg: 0.0046 (0.0046)  time: 0.7411  data: 0.2229  max mem: 3025\n",
      "Epoch: [5]  [2/3]  eta: 0:00:00  lr: 0.000500  loss: 0.0901 (0.0913)  loss_classifier: 0.0263 (0.0251)  loss_box_reg: 0.0104 (0.0108)  loss_mask: 0.0494 (0.0499)  loss_objectness: 0.0002 (0.0002)  loss_rpn_box_reg: 0.0046 (0.0053)  time: 0.5120  data: 0.0748  max mem: 3025\n",
      "Epoch: [5] Total time: 0:00:01 (0.5216 s / it)\n",
      "creating index...\n",
      "index created!\n",
      "Test:  [0/5]  eta: 0:00:01  model_time: 0.1043 (0.1043)  evaluator_time: 0.0058 (0.0058)  time: 0.2034  data: 0.0908  max mem: 3025\n",
      "Test:  [4/5]  eta: 0:00:00  model_time: 0.0921 (0.0938)  evaluator_time: 0.0050 (0.0051)  time: 0.1208  data: 0.0200  max mem: 3025\n",
      "Test: Total time: 0:00:00 (0.1279 s / it)\n",
      "Averaged stats: model_time: 0.0921 (0.0938)  evaluator_time: 0.0050 (0.0051)\n",
      "Accumulating evaluation results...\n",
      "DONE (t=0.00s).\n",
      "Accumulating evaluation results...\n",
      "DONE (t=0.00s).\n",
      "IoU metric: bbox\n",
      " Average Precision  (AP) @[ IoU=0.50:0.95 | area=   all | maxDets=100 ] = 0.798\n",
      " Average Precision  (AP) @[ IoU=0.50      | area=   all | maxDets=100 ] = 0.894\n",
      " Average Precision  (AP) @[ IoU=0.75      | area=   all | maxDets=100 ] = 0.894\n",
      " Average Precision  (AP) @[ IoU=0.50:0.95 | area= small | maxDets=100 ] = -1.000\n",
      " Average Precision  (AP) @[ IoU=0.50:0.95 | area=medium | maxDets=100 ] = 0.790\n",
      " Average Precision  (AP) @[ IoU=0.50:0.95 | area= large | maxDets=100 ] = 0.925\n",
      " Average Recall     (AR) @[ IoU=0.50:0.95 | area=   all | maxDets=  1 ] = 0.180\n",
      " Average Recall     (AR) @[ IoU=0.50:0.95 | area=   all | maxDets= 10 ] = 0.860\n",
      " Average Recall     (AR) @[ IoU=0.50:0.95 | area=   all | maxDets=100 ] = 0.860\n",
      " Average Recall     (AR) @[ IoU=0.50:0.95 | area= small | maxDets=100 ] = -1.000\n",
      " Average Recall     (AR) @[ IoU=0.50:0.95 | area=medium | maxDets=100 ] = 0.850\n",
      " Average Recall     (AR) @[ IoU=0.50:0.95 | area= large | maxDets=100 ] = 0.950\n",
      "IoU metric: segm\n",
      " Average Precision  (AP) @[ IoU=0.50:0.95 | area=   all | maxDets=100 ] = 0.871\n",
      " Average Precision  (AP) @[ IoU=0.50      | area=   all | maxDets=100 ] = 0.894\n",
      " Average Precision  (AP) @[ IoU=0.75      | area=   all | maxDets=100 ] = 0.894\n",
      " Average Precision  (AP) @[ IoU=0.50:0.95 | area= small | maxDets=100 ] = -1.000\n",
      " Average Precision  (AP) @[ IoU=0.50:0.95 | area=medium | maxDets=100 ] = 0.862\n",
      " Average Precision  (AP) @[ IoU=0.50:0.95 | area= large | maxDets=100 ] = 1.000\n",
      " Average Recall     (AR) @[ IoU=0.50:0.95 | area=   all | maxDets=  1 ] = 0.200\n",
      " Average Recall     (AR) @[ IoU=0.50:0.95 | area=   all | maxDets= 10 ] = 0.930\n",
      " Average Recall     (AR) @[ IoU=0.50:0.95 | area=   all | maxDets=100 ] = 0.930\n",
      " Average Recall     (AR) @[ IoU=0.50:0.95 | area= small | maxDets=100 ] = -1.000\n",
      " Average Recall     (AR) @[ IoU=0.50:0.95 | area=medium | maxDets=100 ] = 0.922\n",
      " Average Recall     (AR) @[ IoU=0.50:0.95 | area= large | maxDets=100 ] = 1.000\n"
     ]
    },
    {
     "name": "stdout",
     "output_type": "stream",
     "text": [
      "Epoch: [6]  [0/3]  eta: 0:00:02  lr: 0.000050  loss: 0.0896 (0.0896)  loss_classifier: 0.0235 (0.0235)  loss_box_reg: 0.0126 (0.0126)  loss_mask: 0.0464 (0.0464)  loss_objectness: 0.0028 (0.0028)  loss_rpn_box_reg: 0.0042 (0.0042)  time: 0.7220  data: 0.1739  max mem: 3048\n",
      "Epoch: [6]  [2/3]  eta: 0:00:00  lr: 0.000050  loss: 0.0896 (0.0889)  loss_classifier: 0.0213 (0.0220)  loss_box_reg: 0.0094 (0.0102)  loss_mask: 0.0509 (0.0501)  loss_objectness: 0.0003 (0.0011)  loss_rpn_box_reg: 0.0059 (0.0055)  time: 0.5057  data: 0.0585  max mem: 3048\n",
      "Epoch: [6] Total time: 0:00:01 (0.5137 s / it)\n",
      "creating index...\n",
      "index created!\n",
      "Test:  [0/5]  eta: 0:00:00  model_time: 0.0911 (0.0911)  evaluator_time: 0.0058 (0.0058)  time: 0.1960  data: 0.0970  max mem: 3048\n",
      "Test:  [4/5]  eta: 0:00:00  model_time: 0.0968 (0.0955)  evaluator_time: 0.0050 (0.0053)  time: 0.1233  data: 0.0210  max mem: 3048\n",
      "Test: Total time: 0:00:00 (0.1281 s / it)\n",
      "Averaged stats: model_time: 0.0968 (0.0955)  evaluator_time: 0.0050 (0.0053)\n",
      "Accumulating evaluation results...\n",
      "DONE (t=0.00s).\n",
      "Accumulating evaluation results...\n",
      "DONE (t=0.00s).\n",
      "IoU metric: bbox\n",
      " Average Precision  (AP) @[ IoU=0.50:0.95 | area=   all | maxDets=100 ] = 0.798\n",
      " Average Precision  (AP) @[ IoU=0.50      | area=   all | maxDets=100 ] = 0.894\n",
      " Average Precision  (AP) @[ IoU=0.75      | area=   all | maxDets=100 ] = 0.894\n",
      " Average Precision  (AP) @[ IoU=0.50:0.95 | area= small | maxDets=100 ] = -1.000\n",
      " Average Precision  (AP) @[ IoU=0.50:0.95 | area=medium | maxDets=100 ] = 0.790\n",
      " Average Precision  (AP) @[ IoU=0.50:0.95 | area= large | maxDets=100 ] = 0.925\n",
      " Average Recall     (AR) @[ IoU=0.50:0.95 | area=   all | maxDets=  1 ] = 0.180\n",
      " Average Recall     (AR) @[ IoU=0.50:0.95 | area=   all | maxDets= 10 ] = 0.860\n",
      " Average Recall     (AR) @[ IoU=0.50:0.95 | area=   all | maxDets=100 ] = 0.860\n",
      " Average Recall     (AR) @[ IoU=0.50:0.95 | area= small | maxDets=100 ] = -1.000\n",
      " Average Recall     (AR) @[ IoU=0.50:0.95 | area=medium | maxDets=100 ] = 0.850\n",
      " Average Recall     (AR) @[ IoU=0.50:0.95 | area= large | maxDets=100 ] = 0.950\n",
      "IoU metric: segm\n",
      " Average Precision  (AP) @[ IoU=0.50:0.95 | area=   all | maxDets=100 ] = 0.871\n",
      " Average Precision  (AP) @[ IoU=0.50      | area=   all | maxDets=100 ] = 0.894\n",
      " Average Precision  (AP) @[ IoU=0.75      | area=   all | maxDets=100 ] = 0.894\n",
      " Average Precision  (AP) @[ IoU=0.50:0.95 | area= small | maxDets=100 ] = -1.000\n",
      " Average Precision  (AP) @[ IoU=0.50:0.95 | area=medium | maxDets=100 ] = 0.862\n",
      " Average Precision  (AP) @[ IoU=0.50:0.95 | area= large | maxDets=100 ] = 1.000\n",
      " Average Recall     (AR) @[ IoU=0.50:0.95 | area=   all | maxDets=  1 ] = 0.200\n",
      " Average Recall     (AR) @[ IoU=0.50:0.95 | area=   all | maxDets= 10 ] = 0.930\n",
      " Average Recall     (AR) @[ IoU=0.50:0.95 | area=   all | maxDets=100 ] = 0.930\n",
      " Average Recall     (AR) @[ IoU=0.50:0.95 | area= small | maxDets=100 ] = -1.000\n",
      " Average Recall     (AR) @[ IoU=0.50:0.95 | area=medium | maxDets=100 ] = 0.922\n",
      " Average Recall     (AR) @[ IoU=0.50:0.95 | area= large | maxDets=100 ] = 1.000\n",
      "Epoch: [7]  [0/3]  eta: 0:00:02  lr: 0.000050  loss: 0.0875 (0.0875)  loss_classifier: 0.0233 (0.0233)  loss_box_reg: 0.0102 (0.0102)  loss_mask: 0.0474 (0.0474)  loss_objectness: 0.0005 (0.0005)  loss_rpn_box_reg: 0.0060 (0.0060)  time: 0.6842  data: 0.1690  max mem: 3048\n",
      "Epoch: [7]  [2/3]  eta: 0:00:00  lr: 0.000050  loss: 0.0918 (0.0915)  loss_classifier: 0.0251 (0.0263)  loss_box_reg: 0.0098 (0.0090)  loss_mask: 0.0498 (0.0503)  loss_objectness: 0.0002 (0.0003)  loss_rpn_box_reg: 0.0058 (0.0056)  time: 0.5006  data: 0.0577  max mem: 3048\n",
      "Epoch: [7] Total time: 0:00:01 (0.5086 s / it)\n",
      "creating index...\n",
      "index created!\n",
      "Test:  [0/5]  eta: 0:00:01  model_time: 0.0921 (0.0921)  evaluator_time: 0.0060 (0.0060)  time: 0.2041  data: 0.1044  max mem: 3048\n",
      "Test:  [4/5]  eta: 0:00:00  model_time: 0.0933 (0.1042)  evaluator_time: 0.0057 (0.0061)  time: 0.1342  data: 0.0222  max mem: 3048\n",
      "Test: Total time: 0:00:00 (0.1415 s / it)\n",
      "Averaged stats: model_time: 0.0933 (0.1042)  evaluator_time: 0.0057 (0.0061)\n",
      "Accumulating evaluation results...\n",
      "DONE (t=0.01s).\n",
      "Accumulating evaluation results...\n",
      "DONE (t=0.01s).\n",
      "IoU metric: bbox\n",
      " Average Precision  (AP) @[ IoU=0.50:0.95 | area=   all | maxDets=100 ] = 0.806\n",
      " Average Precision  (AP) @[ IoU=0.50      | area=   all | maxDets=100 ] = 0.894\n",
      " Average Precision  (AP) @[ IoU=0.75      | area=   all | maxDets=100 ] = 0.894\n",
      " Average Precision  (AP) @[ IoU=0.50:0.95 | area= small | maxDets=100 ] = -1.000\n",
      " Average Precision  (AP) @[ IoU=0.50:0.95 | area=medium | maxDets=100 ] = 0.800\n",
      " Average Precision  (AP) @[ IoU=0.50:0.95 | area= large | maxDets=100 ] = 0.925\n",
      " Average Recall     (AR) @[ IoU=0.50:0.95 | area=   all | maxDets=  1 ] = 0.180\n",
      " Average Recall     (AR) @[ IoU=0.50:0.95 | area=   all | maxDets= 10 ] = 0.865\n",
      " Average Recall     (AR) @[ IoU=0.50:0.95 | area=   all | maxDets=100 ] = 0.865\n",
      " Average Recall     (AR) @[ IoU=0.50:0.95 | area= small | maxDets=100 ] = -1.000\n",
      " Average Recall     (AR) @[ IoU=0.50:0.95 | area=medium | maxDets=100 ] = 0.856\n",
      " Average Recall     (AR) @[ IoU=0.50:0.95 | area= large | maxDets=100 ] = 0.950\n",
      "IoU metric: segm\n",
      " Average Precision  (AP) @[ IoU=0.50:0.95 | area=   all | maxDets=100 ] = 0.866\n",
      " Average Precision  (AP) @[ IoU=0.50      | area=   all | maxDets=100 ] = 0.894\n",
      " Average Precision  (AP) @[ IoU=0.75      | area=   all | maxDets=100 ] = 0.894\n",
      " Average Precision  (AP) @[ IoU=0.50:0.95 | area= small | maxDets=100 ] = -1.000\n",
      " Average Precision  (AP) @[ IoU=0.50:0.95 | area=medium | maxDets=100 ] = 0.857\n",
      " Average Precision  (AP) @[ IoU=0.50:0.95 | area= large | maxDets=100 ] = 1.000\n",
      " Average Recall     (AR) @[ IoU=0.50:0.95 | area=   all | maxDets=  1 ] = 0.200\n",
      " Average Recall     (AR) @[ IoU=0.50:0.95 | area=   all | maxDets= 10 ] = 0.930\n",
      " Average Recall     (AR) @[ IoU=0.50:0.95 | area=   all | maxDets=100 ] = 0.930\n",
      " Average Recall     (AR) @[ IoU=0.50:0.95 | area= small | maxDets=100 ] = -1.000\n",
      " Average Recall     (AR) @[ IoU=0.50:0.95 | area=medium | maxDets=100 ] = 0.922\n",
      " Average Recall     (AR) @[ IoU=0.50:0.95 | area= large | maxDets=100 ] = 1.000\n",
      "Epoch: [8]  [0/3]  eta: 0:00:02  lr: 0.000050  loss: 0.0932 (0.0932)  loss_classifier: 0.0267 (0.0267)  loss_box_reg: 0.0101 (0.0101)  loss_mask: 0.0512 (0.0512)  loss_objectness: 0.0006 (0.0006)  loss_rpn_box_reg: 0.0045 (0.0045)  time: 0.8511  data: 0.2112  max mem: 3048\n",
      "Epoch: [8]  [2/3]  eta: 0:00:00  lr: 0.000050  loss: 0.0889 (0.0891)  loss_classifier: 0.0252 (0.0248)  loss_box_reg: 0.0101 (0.0101)  loss_mask: 0.0493 (0.0493)  loss_objectness: 0.0002 (0.0003)  loss_rpn_box_reg: 0.0045 (0.0046)  time: 0.6037  data: 0.0727  max mem: 3048\n",
      "Epoch: [8] Total time: 0:00:01 (0.6152 s / it)\n",
      "creating index...\n",
      "index created!\n",
      "Test:  [0/5]  eta: 0:00:00  model_time: 0.0899 (0.0899)  evaluator_time: 0.0058 (0.0058)  time: 0.1892  data: 0.0915  max mem: 3048\n",
      "Test:  [4/5]  eta: 0:00:00  model_time: 0.0915 (0.0912)  evaluator_time: 0.0049 (0.0051)  time: 0.1175  data: 0.0197  max mem: 3048\n",
      "Test: Total time: 0:00:00 (0.1223 s / it)\n",
      "Averaged stats: model_time: 0.0915 (0.0912)  evaluator_time: 0.0049 (0.0051)\n",
      "Accumulating evaluation results...\n",
      "DONE (t=0.00s).\n",
      "Accumulating evaluation results...\n",
      "DONE (t=0.00s).\n",
      "IoU metric: bbox\n",
      " Average Precision  (AP) @[ IoU=0.50:0.95 | area=   all | maxDets=100 ] = 0.810\n",
      " Average Precision  (AP) @[ IoU=0.50      | area=   all | maxDets=100 ] = 0.894\n",
      " Average Precision  (AP) @[ IoU=0.75      | area=   all | maxDets=100 ] = 0.894\n",
      " Average Precision  (AP) @[ IoU=0.50:0.95 | area= small | maxDets=100 ] = -1.000\n",
      " Average Precision  (AP) @[ IoU=0.50:0.95 | area=medium | maxDets=100 ] = 0.801\n",
      " Average Precision  (AP) @[ IoU=0.50:0.95 | area= large | maxDets=100 ] = 1.000\n",
      " Average Recall     (AR) @[ IoU=0.50:0.95 | area=   all | maxDets=  1 ] = 0.185\n",
      " Average Recall     (AR) @[ IoU=0.50:0.95 | area=   all | maxDets= 10 ] = 0.875\n",
      " Average Recall     (AR) @[ IoU=0.50:0.95 | area=   all | maxDets=100 ] = 0.875\n",
      " Average Recall     (AR) @[ IoU=0.50:0.95 | area= small | maxDets=100 ] = -1.000\n",
      " Average Recall     (AR) @[ IoU=0.50:0.95 | area=medium | maxDets=100 ] = 0.861\n",
      " Average Recall     (AR) @[ IoU=0.50:0.95 | area= large | maxDets=100 ] = 1.000\n",
      "IoU metric: segm\n",
      " Average Precision  (AP) @[ IoU=0.50:0.95 | area=   all | maxDets=100 ] = 0.875\n",
      " Average Precision  (AP) @[ IoU=0.50      | area=   all | maxDets=100 ] = 0.894\n",
      " Average Precision  (AP) @[ IoU=0.75      | area=   all | maxDets=100 ] = 0.894\n",
      " Average Precision  (AP) @[ IoU=0.50:0.95 | area= small | maxDets=100 ] = -1.000\n",
      " Average Precision  (AP) @[ IoU=0.50:0.95 | area=medium | maxDets=100 ] = 0.866\n",
      " Average Precision  (AP) @[ IoU=0.50:0.95 | area= large | maxDets=100 ] = 1.000\n",
      " Average Recall     (AR) @[ IoU=0.50:0.95 | area=   all | maxDets=  1 ] = 0.200\n",
      " Average Recall     (AR) @[ IoU=0.50:0.95 | area=   all | maxDets= 10 ] = 0.935\n",
      " Average Recall     (AR) @[ IoU=0.50:0.95 | area=   all | maxDets=100 ] = 0.935\n",
      " Average Recall     (AR) @[ IoU=0.50:0.95 | area= small | maxDets=100 ] = -1.000\n",
      " Average Recall     (AR) @[ IoU=0.50:0.95 | area=medium | maxDets=100 ] = 0.928\n",
      " Average Recall     (AR) @[ IoU=0.50:0.95 | area= large | maxDets=100 ] = 1.000\n"
     ]
    },
    {
     "name": "stdout",
     "output_type": "stream",
     "text": [
      "Epoch: [9]  [0/3]  eta: 0:00:01  lr: 0.000005  loss: 0.0830 (0.0830)  loss_classifier: 0.0153 (0.0153)  loss_box_reg: 0.0086 (0.0086)  loss_mask: 0.0517 (0.0517)  loss_objectness: 0.0008 (0.0008)  loss_rpn_box_reg: 0.0067 (0.0067)  time: 0.6639  data: 0.1657  max mem: 3048\n",
      "Epoch: [9]  [2/3]  eta: 0:00:00  lr: 0.000005  loss: 0.0830 (0.0859)  loss_classifier: 0.0182 (0.0211)  loss_box_reg: 0.0087 (0.0098)  loss_mask: 0.0517 (0.0499)  loss_objectness: 0.0002 (0.0004)  loss_rpn_box_reg: 0.0039 (0.0048)  time: 0.5101  data: 0.0572  max mem: 3048\n",
      "Epoch: [9] Total time: 0:00:01 (0.5180 s / it)\n",
      "creating index...\n",
      "index created!\n",
      "Test:  [0/5]  eta: 0:00:01  model_time: 0.1044 (0.1044)  evaluator_time: 0.0063 (0.0063)  time: 0.2025  data: 0.0887  max mem: 3048\n",
      "Test:  [4/5]  eta: 0:00:00  model_time: 0.1014 (0.1025)  evaluator_time: 0.0051 (0.0054)  time: 0.1300  data: 0.0198  max mem: 3048\n",
      "Test: Total time: 0:00:00 (0.1350 s / it)\n",
      "Averaged stats: model_time: 0.1014 (0.1025)  evaluator_time: 0.0051 (0.0054)\n",
      "Accumulating evaluation results...\n",
      "DONE (t=0.00s).\n",
      "Accumulating evaluation results...\n",
      "DONE (t=0.00s).\n",
      "IoU metric: bbox\n",
      " Average Precision  (AP) @[ IoU=0.50:0.95 | area=   all | maxDets=100 ] = 0.810\n",
      " Average Precision  (AP) @[ IoU=0.50      | area=   all | maxDets=100 ] = 0.894\n",
      " Average Precision  (AP) @[ IoU=0.75      | area=   all | maxDets=100 ] = 0.894\n",
      " Average Precision  (AP) @[ IoU=0.50:0.95 | area= small | maxDets=100 ] = -1.000\n",
      " Average Precision  (AP) @[ IoU=0.50:0.95 | area=medium | maxDets=100 ] = 0.801\n",
      " Average Precision  (AP) @[ IoU=0.50:0.95 | area= large | maxDets=100 ] = 1.000\n",
      " Average Recall     (AR) @[ IoU=0.50:0.95 | area=   all | maxDets=  1 ] = 0.185\n",
      " Average Recall     (AR) @[ IoU=0.50:0.95 | area=   all | maxDets= 10 ] = 0.875\n",
      " Average Recall     (AR) @[ IoU=0.50:0.95 | area=   all | maxDets=100 ] = 0.875\n",
      " Average Recall     (AR) @[ IoU=0.50:0.95 | area= small | maxDets=100 ] = -1.000\n",
      " Average Recall     (AR) @[ IoU=0.50:0.95 | area=medium | maxDets=100 ] = 0.861\n",
      " Average Recall     (AR) @[ IoU=0.50:0.95 | area= large | maxDets=100 ] = 1.000\n",
      "IoU metric: segm\n",
      " Average Precision  (AP) @[ IoU=0.50:0.95 | area=   all | maxDets=100 ] = 0.875\n",
      " Average Precision  (AP) @[ IoU=0.50      | area=   all | maxDets=100 ] = 0.894\n",
      " Average Precision  (AP) @[ IoU=0.75      | area=   all | maxDets=100 ] = 0.894\n",
      " Average Precision  (AP) @[ IoU=0.50:0.95 | area= small | maxDets=100 ] = -1.000\n",
      " Average Precision  (AP) @[ IoU=0.50:0.95 | area=medium | maxDets=100 ] = 0.866\n",
      " Average Precision  (AP) @[ IoU=0.50:0.95 | area= large | maxDets=100 ] = 1.000\n",
      " Average Recall     (AR) @[ IoU=0.50:0.95 | area=   all | maxDets=  1 ] = 0.200\n",
      " Average Recall     (AR) @[ IoU=0.50:0.95 | area=   all | maxDets= 10 ] = 0.935\n",
      " Average Recall     (AR) @[ IoU=0.50:0.95 | area=   all | maxDets=100 ] = 0.935\n",
      " Average Recall     (AR) @[ IoU=0.50:0.95 | area= small | maxDets=100 ] = -1.000\n",
      " Average Recall     (AR) @[ IoU=0.50:0.95 | area=medium | maxDets=100 ] = 0.928\n",
      " Average Recall     (AR) @[ IoU=0.50:0.95 | area= large | maxDets=100 ] = 1.000\n",
      "That's it!\n"
     ]
    }
   ],
   "source": [
    "from engine import train_one_epoch, evaluate\n",
    "import utils\n",
    "\n",
    "\n",
    "# def main():\n",
    "# 학습을 GPU로 진행하되 GPU가 가용하지 않으면 CPU로 합니다\n",
    "device = torch.device('cuda') if torch.cuda.is_available() else torch.device('cpu')\n",
    "\n",
    "# 우리 데이터셋은 두 개의 클래스만 가집니다 - 배경과 사람\n",
    "num_classes = 2\n",
    "# 데이터셋과 정의된 변환들을 사용합니다\n",
    "dataset = PennFudanDataset( get_transform(train=True))\n",
    "dataset_test = PennFudanDataset(get_transform(train=False))\n",
    "\n",
    "# dataset = PennFudanDataset()\n",
    "# dataset_test = PennFudanDataset()\n",
    "\n",
    "\n",
    "# 데이터셋을 학습용과 테스트용으로 나눕니다(역자주: 여기서는 전체의 50개를 테스트에, 나머지를 학습에 사용합니다)\n",
    "indices = torch.randperm(len(dataset)).tolist()\n",
    "dataset = torch.utils.data.Subset(dataset, indices[:4])\n",
    "dataset_test = torch.utils.data.Subset(dataset_test, indices[:4])\n",
    "\n",
    "# 데이터 로더를 학습용과 검증용으로 정의합니다\n",
    "data_loader = torch.utils.data.DataLoader(\n",
    "    dataset, batch_size=2, shuffle=True, num_workers=4,\n",
    "    collate_fn=utils.collate_fn)\n",
    "\n",
    "data_loader_test = torch.utils.data.DataLoader(\n",
    "    dataset_test, batch_size=1, shuffle=False, num_workers=4,\n",
    "    collate_fn=utils.collate_fn)\n",
    "\n",
    "# 도움 함수를 이용해 모델을 가져옵니다\n",
    "model = get_model_instance_segmentation(num_classes)\n",
    "\n",
    "# 모델을 GPU나 CPU로 옮깁니다\n",
    "model.to(device)\n",
    "\n",
    "# 옵티마이저(Optimizer)를 만듭니다\n",
    "params = [p for p in model.parameters() if p.requires_grad]\n",
    "optimizer = torch.optim.SGD(params, lr=0.005,\n",
    "                            momentum=0.9, weight_decay=0.0005)\n",
    "# 학습률 스케쥴러를 만듭니다\n",
    "lr_scheduler = torch.optim.lr_scheduler.StepLR(optimizer,\n",
    "                                               step_size=3,\n",
    "                                               gamma=0.1)\n",
    "\n",
    "# 10 에포크만큼 학습해봅시다\n",
    "num_epochs = 10\n",
    "\n",
    "for epoch in range(num_epochs):\n",
    "    # 1 에포크동안 학습하고, 10회 마다 출력합니다\n",
    "    train_one_epoch(model, optimizer, data_loader, device, epoch, print_freq=10)\n",
    "    # 학습률을 업데이트 합니다\n",
    "    lr_scheduler.step()\n",
    "    # 테스트 데이터셋에서 평가를 합니다\n",
    "    evaluate(model, data_loader_test, device=device)\n",
    "\n",
    "print(\"That's it!\")"
   ]
  },
  {
   "cell_type": "markdown",
   "metadata": {},
   "source": [
    "model.roi_heads.maskrcnn_loss??"
   ]
  },
  {
   "cell_type": "markdown",
   "metadata": {},
   "source": [
    "evaluate(model, data_loader_test, device=device)"
   ]
  },
  {
   "cell_type": "code",
   "execution_count": 20,
   "metadata": {
    "collapsed": true
   },
   "outputs": [],
   "source": [
    "# pick one image from the test set\n",
    "img, _ = dataset_test[1]\n",
    "# put the model in evaluation mode\n",
    "model.eval()\n",
    "with torch.no_grad():\n",
    "    prediction = model([img.to(device)])"
   ]
  },
  {
   "cell_type": "markdown",
   "metadata": {},
   "source": [
    "prediction"
   ]
  },
  {
   "cell_type": "code",
   "execution_count": 21,
   "metadata": {},
   "outputs": [
    {
     "data": {
      "image/png": "[encoded data removed]",
      "text/plain": [
       "<PIL.Image.Image image mode=RGB size=512x512 at 0x7F74B0892DA0>"
      ]
     },
     "execution_count": 21,
     "metadata": {},
     "output_type": "execute_result"
    }
   ],
   "source": [
    "Image.fromarray(img.mul(255).permute(1, 2, 0).byte().numpy())"
   ]
  },
  {
   "cell_type": "markdown",
   "metadata": {},
   "source": [
    "prediction[0]['masks'][0,0].shape"
   ]
  },
  {
   "cell_type": "code",
   "execution_count": 22,
   "metadata": {
    "collapsed": true
   },
   "outputs": [],
   "source": [
    "pred=prediction[0]['masks'][0,0] +prediction[0]['masks'][1,0]+prediction[0]['masks'][2,0]+prediction[0]['masks'][3,0]"
   ]
  },
  {
   "cell_type": "markdown",
   "metadata": {},
   "source": [
    "pred>=0.5"
   ]
  },
  {
   "cell_type": "code",
   "execution_count": 23,
   "metadata": {},
   "outputs": [
    {
     "data": {
      "image/png": "[encoded data removed]",
      "text/plain": [
       "<PIL.Image.Image image mode=L size=512x512 at 0x7F74B08921D0>"
      ]
     },
     "execution_count": 23,
     "metadata": {},
     "output_type": "execute_result"
    }
   ],
   "source": [
    "Image.fromarray(pred.mul(255).byte().cpu().numpy())"
   ]
  },
  {
   "cell_type": "code",
   "execution_count": 31,
   "metadata": {
    "collapsed": true,
    "scrolled": true
   },
   "outputs": [],
   "source": [
    "# pick one image from the test set\n",
    "img, _ = dataset_test[1]\n",
    "# put the model in evaluation mode\n",
    "model.eval()\n",
    "with torch.no_grad():\n",
    "    prediction = model([img.to(device)])\n",
    "pred=prediction[0]['masks'][0,0] +prediction[0]['masks'][1,0]+prediction[0]['masks'][2,0]+prediction[0]['masks'][3,0]"
   ]
  },
  {
   "cell_type": "code",
   "execution_count": 32,
   "metadata": {},
   "outputs": [
    {
     "data": {
      "image/png": "[encoded data removed]",
      "text/plain": [
       "<PIL.Image.Image image mode=L size=512x512 at 0x7F74AF3416A0>"
      ]
     },
     "execution_count": 32,
     "metadata": {},
     "output_type": "execute_result"
    }
   ],
   "source": [
    "Image.fromarray(pred.mul(255).byte().cpu().numpy())"
   ]
  },
  {
   "cell_type": "code",
   "execution_count": 73,
   "metadata": {},
   "outputs": [
    {
     "data": {
      "image/png": "[encoded data removed]",
      "text/plain": [
       "<Figure size 432x288 with 1 Axes>"
      ]
     },
     "metadata": {
      "needs_background": "light"
     },
     "output_type": "display_data"
    }
   ],
   "source": [
    "import matplotlib.pyplot as plt\n",
    "\n",
    "plt.imshow(pred.cpu().numpy())\n",
    "\n",
    "plt.show()"
   ]
  },
  {
   "cell_type": "code",
   "execution_count": 64,
   "metadata": {},
   "outputs": [
    {
     "data": {
      "image/png": "[encoded data removed]",
      "text/plain": [
       "<Figure size 432x288 with 1 Axes>"
      ]
     },
     "metadata": {
      "needs_background": "light"
     },
     "output_type": "display_data"
    }
   ],
   "source": [
    "plt.imshow(prediction[0]['masks'][2,0].cpu().numpy()>=0.5) \n",
    "plt.show()"
   ]
  },
  {
   "cell_type": "code",
   "execution_count": 97,
   "metadata": {
    "scrolled": false
   },
   "outputs": [
    {
     "data": {
      "text/plain": [
       "torch.Size([512, 512])"
      ]
     },
     "execution_count": 97,
     "metadata": {},
     "output_type": "execute_result"
    }
   ],
   "source": [
    "prediction[0]['masks'][3,0].cpu().mul(255).shape"
   ]
  },
  {
   "cell_type": "code",
   "execution_count": 85,
   "metadata": {},
   "outputs": [
    {
     "data": {
      "text/plain": [
       "array([0.0000000e+00, 4.2097554e-08, 5.2477272e-08, ..., 2.5499997e+02,\n",
       "       2.5499998e+02, 2.5500000e+02], dtype=float32)"
      ]
     },
     "execution_count": 85,
     "metadata": {},
     "output_type": "execute_result"
    }
   ],
   "source": [
    "np.unique(prediction[0]['masks'].cpu().mul(255))"
   ]
  },
  {
   "cell_type": "code",
   "execution_count": 51,
   "metadata": {},
   "outputs": [
    {
     "data": {
      "text/plain": [
       "[{'boxes': tensor([[1.0496e+02, 1.4565e+02, 1.8704e+02, 2.0969e+02],\n",
       "          [2.3905e+02, 3.2184e+02, 3.0710e+02, 3.6915e+02],\n",
       "          [4.4019e+02, 3.8224e+02, 5.1142e+02, 4.5294e+02],\n",
       "          [0.0000e+00, 9.4191e+00, 7.4523e+01, 1.4140e+02],\n",
       "          [1.3011e+02, 1.4044e+02, 1.7737e+02, 2.0282e+02],\n",
       "          [1.3233e+02, 1.2441e+02, 2.0542e+02, 2.0711e+02],\n",
       "          [6.9282e+01, 1.3317e+02, 2.0010e+02, 2.0017e+02],\n",
       "          [2.1670e+02, 3.0220e+02, 3.0349e+02, 3.7573e+02],\n",
       "          [3.4310e+01, 4.0928e+00, 8.2468e+01, 1.3222e+02],\n",
       "          [1.1373e+02, 1.3071e+02, 1.9331e+02, 2.4436e+02],\n",
       "          [2.4206e+02, 3.0844e+02, 3.1016e+02, 4.0093e+02],\n",
       "          [4.6734e+02, 3.8908e+02, 5.0653e+02, 4.5605e+02],\n",
       "          [8.9400e+01, 1.0557e+02, 2.1360e+02, 2.1904e+02],\n",
       "          [1.1266e+02, 1.2907e+02, 1.6230e+02, 2.0009e+02],\n",
       "          [4.3317e+02, 3.8476e+02, 4.9618e+02, 4.9494e+02],\n",
       "          [2.4515e+02, 2.9480e+02, 3.2876e+02, 3.7265e+02],\n",
       "          [1.5109e+02, 1.4538e+02, 1.8673e+02, 2.0069e+02],\n",
       "          [4.3424e+02, 4.0301e+02, 5.0397e+02, 4.4425e+02],\n",
       "          [2.6397e+02, 3.2225e+02, 3.0291e+02, 3.5938e+02],\n",
       "          [2.5596e+02, 3.2191e+02, 2.9534e+02, 4.0423e+02],\n",
       "          [2.2911e+02, 3.1763e+02, 3.4336e+02, 3.8458e+02],\n",
       "          [2.7573e+02, 3.1796e+02, 3.0694e+02, 3.7163e+02],\n",
       "          [1.8205e+01, 0.0000e+00, 1.1077e+02, 1.6058e+02],\n",
       "          [4.4719e+02, 3.8988e+02, 4.8619e+02, 4.4834e+02],\n",
       "          [4.0798e+02, 3.2829e+02, 5.1200e+02, 4.8339e+02],\n",
       "          [2.4206e+02, 3.3230e+02, 2.8875e+02, 3.7524e+02],\n",
       "          [4.4848e+01, 2.3767e+01, 7.5796e+01, 1.1137e+02],\n",
       "          [4.6916e+02, 3.8087e+02, 5.1200e+02, 4.9887e+02],\n",
       "          [9.7984e+01, 1.3694e+02, 1.5763e+02, 2.2501e+02],\n",
       "          [0.0000e+00, 8.2078e+00, 3.7265e+01, 1.3437e+02],\n",
       "          [4.8401e+02, 3.9144e+02, 5.1117e+02, 4.5491e+02],\n",
       "          [1.3168e+02, 1.4729e+02, 2.0099e+02, 1.9012e+02],\n",
       "          [1.0358e+02, 9.4992e+00, 1.9789e+02, 2.3676e+02],\n",
       "          [2.7139e+02, 3.3022e+02, 2.8711e+02, 3.7230e+02],\n",
       "          [1.1981e+02, 1.4979e+02, 1.6312e+02, 2.2956e+02],\n",
       "          [2.1808e+02, 2.3237e+02, 3.2194e+02, 4.2713e+02],\n",
       "          [5.6910e+01, 3.9684e+01, 8.0351e+01, 1.1525e+02],\n",
       "          [2.5534e+02, 3.3063e+02, 2.7265e+02, 3.6862e+02],\n",
       "          [2.5154e+02, 3.2313e+02, 3.0421e+02, 4.4512e+02],\n",
       "          [2.8774e+02, 3.3140e+02, 3.0100e+02, 3.5946e+02],\n",
       "          [4.6693e+02, 3.3496e+02, 5.1200e+02, 4.5470e+02],\n",
       "          [2.3466e+02, 3.0837e+02, 3.8575e+02, 3.6722e+02],\n",
       "          [3.0591e+02, 3.7364e+02, 5.1200e+02, 4.6624e+02],\n",
       "          [2.4300e+00, 2.2025e-01, 2.0389e+02, 2.1137e+02],\n",
       "          [4.5566e+02, 3.9850e+02, 4.9420e+02, 4.7279e+02],\n",
       "          [2.7766e+02, 3.3276e+02, 2.9156e+02, 3.6841e+02],\n",
       "          [1.0880e+02, 1.4639e+02, 1.4470e+02, 2.0057e+02],\n",
       "          [4.4554e+02, 2.4745e+02, 5.1200e+02, 4.7667e+02],\n",
       "          [2.6086e+02, 3.3124e+02, 2.7786e+02, 3.7293e+02],\n",
       "          [2.9268e+02, 3.3368e+02, 3.0494e+02, 3.5895e+02],\n",
       "          [4.3752e+02, 3.9242e+02, 4.6906e+02, 4.4674e+02],\n",
       "          [0.0000e+00, 1.4376e+02, 1.7817e+02, 2.5935e+02],\n",
       "          [4.3818e+02, 4.0845e+02, 5.1200e+02, 4.7347e+02],\n",
       "          [2.8773e+02, 3.3831e+02, 3.0184e+02, 3.7189e+02],\n",
       "          [2.8104e+02, 3.3687e+02, 3.0594e+02, 3.6126e+02],\n",
       "          [1.9302e+00, 2.3971e+00, 1.3636e+02, 1.0149e+02],\n",
       "          [1.0725e+02, 8.8226e+01, 2.0448e+02, 3.2319e+02],\n",
       "          [2.6924e+01, 4.4518e+01, 5.7889e+01, 1.2083e+02],\n",
       "          [0.0000e+00, 6.8451e+01, 9.8652e+01, 1.3826e+02],\n",
       "          [2.6520e+02, 3.3576e+02, 2.8313e+02, 3.8076e+02],\n",
       "          [2.4132e+01, 1.2739e+02, 2.8715e+02, 2.0488e+02],\n",
       "          [2.6408e+02, 3.3967e+02, 2.9414e+02, 3.5271e+02],\n",
       "          [2.9274e+02, 3.4097e+02, 3.0578e+02, 3.7638e+02]], device='cuda:0'),\n",
       "  'labels': tensor([1, 1, 1, 1, 1, 1, 1, 1, 1, 1, 1, 1, 1, 1, 1, 1, 1, 1, 1, 1, 1, 1, 1, 1,\n",
       "          1, 1, 1, 1, 1, 1, 1, 1, 1, 1, 1, 1, 1, 1, 1, 1, 1, 1, 1, 1, 1, 1, 1, 1,\n",
       "          1, 1, 1, 1, 1, 1, 1, 1, 1, 1, 1, 1, 1, 1, 1], device='cuda:0'),\n",
       "  'scores': tensor([0.8726, 0.8554, 0.8272, 0.8229, 0.7587, 0.6009, 0.5908, 0.5888, 0.5792,\n",
       "          0.5588, 0.5513, 0.5275, 0.4758, 0.4705, 0.4403, 0.4307, 0.4264, 0.4236,\n",
       "          0.4055, 0.3916, 0.3905, 0.3869, 0.3751, 0.3507, 0.3247, 0.2784, 0.2711,\n",
       "          0.2669, 0.2522, 0.2346, 0.2334, 0.2330, 0.2154, 0.1879, 0.1786, 0.1710,\n",
       "          0.1678, 0.1666, 0.1605, 0.1577, 0.1433, 0.1398, 0.1395, 0.1386, 0.1369,\n",
       "          0.1289, 0.1214, 0.1106, 0.1088, 0.1053, 0.1042, 0.0899, 0.0872, 0.0807,\n",
       "          0.0794, 0.0709, 0.0641, 0.0594, 0.0583, 0.0566, 0.0555, 0.0535, 0.0535],\n",
       "         device='cuda:0'),\n",
       "  'masks': tensor([[[[0., 0., 0.,  ..., 0., 0., 0.],\n",
       "            [0., 0., 0.,  ..., 0., 0., 0.],\n",
       "            [0., 0., 0.,  ..., 0., 0., 0.],\n",
       "            ...,\n",
       "            [0., 0., 0.,  ..., 0., 0., 0.],\n",
       "            [0., 0., 0.,  ..., 0., 0., 0.],\n",
       "            [0., 0., 0.,  ..., 0., 0., 0.]]],\n",
       "  \n",
       "  \n",
       "          [[[0., 0., 0.,  ..., 0., 0., 0.],\n",
       "            [0., 0., 0.,  ..., 0., 0., 0.],\n",
       "            [0., 0., 0.,  ..., 0., 0., 0.],\n",
       "            ...,\n",
       "            [0., 0., 0.,  ..., 0., 0., 0.],\n",
       "            [0., 0., 0.,  ..., 0., 0., 0.],\n",
       "            [0., 0., 0.,  ..., 0., 0., 0.]]],\n",
       "  \n",
       "  \n",
       "          [[[0., 0., 0.,  ..., 0., 0., 0.],\n",
       "            [0., 0., 0.,  ..., 0., 0., 0.],\n",
       "            [0., 0., 0.,  ..., 0., 0., 0.],\n",
       "            ...,\n",
       "            [0., 0., 0.,  ..., 0., 0., 0.],\n",
       "            [0., 0., 0.,  ..., 0., 0., 0.],\n",
       "            [0., 0., 0.,  ..., 0., 0., 0.]]],\n",
       "  \n",
       "  \n",
       "          ...,\n",
       "  \n",
       "  \n",
       "          [[[0., 0., 0.,  ..., 0., 0., 0.],\n",
       "            [0., 0., 0.,  ..., 0., 0., 0.],\n",
       "            [0., 0., 0.,  ..., 0., 0., 0.],\n",
       "            ...,\n",
       "            [0., 0., 0.,  ..., 0., 0., 0.],\n",
       "            [0., 0., 0.,  ..., 0., 0., 0.],\n",
       "            [0., 0., 0.,  ..., 0., 0., 0.]]],\n",
       "  \n",
       "  \n",
       "          [[[0., 0., 0.,  ..., 0., 0., 0.],\n",
       "            [0., 0., 0.,  ..., 0., 0., 0.],\n",
       "            [0., 0., 0.,  ..., 0., 0., 0.],\n",
       "            ...,\n",
       "            [0., 0., 0.,  ..., 0., 0., 0.],\n",
       "            [0., 0., 0.,  ..., 0., 0., 0.],\n",
       "            [0., 0., 0.,  ..., 0., 0., 0.]]],\n",
       "  \n",
       "  \n",
       "          [[[0., 0., 0.,  ..., 0., 0., 0.],\n",
       "            [0., 0., 0.,  ..., 0., 0., 0.],\n",
       "            [0., 0., 0.,  ..., 0., 0., 0.],\n",
       "            ...,\n",
       "            [0., 0., 0.,  ..., 0., 0., 0.],\n",
       "            [0., 0., 0.,  ..., 0., 0., 0.],\n",
       "            [0., 0., 0.,  ..., 0., 0., 0.]]]], device='cuda:0')}]"
      ]
     },
     "execution_count": 51,
     "metadata": {},
     "output_type": "execute_result"
    }
   ],
   "source": [
    "prediction"
   ]
  },
  {
   "cell_type": "code",
   "execution_count": null,
   "metadata": {
    "collapsed": true
   },
   "outputs": [],
   "source": []
  }
 ],
 "metadata": {
  "kernelspec": {
   "display_name": "Python 3",
   "language": "python",
   "name": "python3"
  },
  "language_info": {
   "codemirror_mode": {
    "name": "ipython",
    "version": 3
   },
   "file_extension": ".py",
   "mimetype": "text/x-python",
   "name": "python",
   "nbconvert_exporter": "python",
   "pygments_lexer": "ipython3",
   "version": "3.6.6"
  }
 },
 "nbformat": 4,
 "nbformat_minor": 4
}
